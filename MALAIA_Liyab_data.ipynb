{
  "cells": [
    {
      "cell_type": "markdown",
      "metadata": {
        "id": "view-in-github",
        "colab_type": "text"
      },
      "source": [
        "<a href=\"https://colab.research.google.com/github/alexgaaranes/malaia-group-2/blob/main/MALAIA_Liyab_data.ipynb\" target=\"_parent\"><img src=\"https://colab.research.google.com/assets/colab-badge.svg\" alt=\"Open In Colab\"/></a>"
      ]
    },
    {
      "cell_type": "markdown",
      "metadata": {
        "id": "UGayg6iNVpR4"
      },
      "source": [
        "# MALAIA - Group 2\n",
        "\n",
        "---\n",
        "##### Predicting Starting Salaries of Filipino Graduates Using Academic Background and Industry Placement: A Machine Learning Approach Based on the Liyab First Pay Survey\n",
        "\n",
        "<br>\n",
        "\n",
        "Cleaning data from [**Liyab First Pay Survey dataset**](https://docs.google.com/spreadsheets/d/1gnA91Tjr_3UCNV8x1_LoE0oC56r-pXXRdJcgTfOLlm0/edit?gid=549575995#gid=549575995)"
      ]
    },
    {
      "cell_type": "markdown",
      "source": [
        "### Data Prep and Initial Exploration"
      ],
      "metadata": {
        "id": "MF5Rm288S1Jj"
      }
    },
    {
      "cell_type": "code",
      "execution_count": 18,
      "metadata": {
        "id": "HhkncAQ4Mn6b"
      },
      "outputs": [],
      "source": [
        "# Mounting Google Drive. If running locally, ensure 'liyab.csv' is in the same directory or provide the correct path.\n",
        "try:\n",
        "    from google.colab import drive\n",
        "    drive.mount('/content/drive')\n",
        "    # Update this path if your file is located elsewhere in Google Drive\n",
        "    csv_path = \"/content/drive/Shareddrives/MALAIA Group 2/liyab_data/liyab.csv\"\n",
        "except ModuleNotFoundError:\n",
        "    print(\"Not running in Colab. Assuming 'liyab.csv' is in the current directory or accessible via a local path.\")\n",
        "    csv_path = \"liyab.csv\" # Adjust if your local path is different"
      ]
    },
    {
      "cell_type": "code",
      "execution_count": 19,
      "metadata": {
        "id": "6RLzf8bCDeSe",
        "colab": {
          "base_uri": "https://localhost:8080/"
        },
        "outputId": "dce8c41c-f567-4721-e801-15d412d73f45"
      },
      "outputs": [
        {
          "output_type": "stream",
          "name": "stdout",
          "text": [
            "Successfully loaded data. Shape: (2933, 9)\n"
          ]
        }
      ],
      "source": [
        "import pandas as pd\n",
        "import numpy as np\n",
        "import re\n",
        "\n",
        "# Read data\n",
        "try:\n",
        "    liyab = pd.read_csv(csv_path)\n",
        "except FileNotFoundError:\n",
        "    print(f\"Error: The file {csv_path} was not found. Please check the path.\")\n",
        "    liyab = pd.DataFrame()\n",
        "\n",
        "if not liyab.empty:\n",
        "  print(f\"Successfully loaded data. Shape: {liyab.shape}\")"
      ]
    },
    {
      "cell_type": "markdown",
      "source": [
        "#### 1. Year Started First Job"
      ],
      "metadata": {
        "id": "jules_year_markdown"
      }
    },
    {
      "cell_type": "code",
      "execution_count": null,
      "metadata": {
        "id": "jules_initial_exploration_2"
      },
      "outputs": [],
      "source": [
        "print(\"Initial Data Information:\")\n",
        "if not liyab.empty:\n",
        "    liyab.info()\n",
        "    print(\"\nMissing Values per Column:\")\n",
        "    print(liyab.isnull().sum())\n",
        "    print(\"\nFirst 5 Rows:\")\n",
        "    print(liyab.head())\n",
        "else:\n",
        "    print(\"DataFrame is empty. Cannot display info.\")"
      ]
    },
    {
      "cell_type": "markdown",
      "metadata": {
        "id": "3383GCV1dRYk_2"
      },
      "source": [
        "### Data Cleaning"
      ]
    },
    {
      "cell_type": "markdown",
      "source": [
        "#### 1. Year Started First Job"
      ],
      "metadata": {
        "id": "jules_year_markdown_2"
      }
    },
    {
      "cell_type": "code",
      "execution_count": null,
      "metadata": {
        "id": "M6mTtoyKxvI5_2"
      },
      "outputs": [],
      "source": [
        "year_col = 'What year did you start your first job?'\n",
        "if not liyab.empty and year_col in liyab.columns:\n",
        "    liyab[year_col] = pd.to_numeric(liyab[year_col], errors='coerce')\n",
        "    original_rows = len(liyab)\n",
        "    liyab.dropna(subset=[year_col], inplace=True)\n",
        "    liyab = liyab[liyab[year_col].between(1987, 2025)]\n",
        "    liyab[year_col] = liyab[year_col].astype(int)\n",
        "    print(f\"Rows removed due to invalid/outside range year: {original_rows - len(liyab)}\")\n",
        "    print(f\"Cleaned value counts for '{year_col}':\")\n",
        "    print(liyab[year_col].value_counts().sort_index())\n"
      ]
    },
    {
      "cell_type": "markdown",
      "source": [
        "#### 2. Gender Cleaning"
      ],
      "metadata": {
        "id": "jules_gender_markdown_2"
      }
    },
    {
      "cell_type": "code",
      "execution_count": 24,
      "metadata": {
        "id": "k6K5_Mm-aozH_2"
      },
      "outputs": [],
      "source": [
        "gender_col = 'What is your gender?'\n",
        "if not liyab.empty and gender_col in liyab.columns:\n",
        "    liyab['Cleaned Gender'] = liyab[gender_col].astype(str).str.lower().str.strip()\n",
        "    gender_map = {\n",
        "        'female': 'Female', 'f': 'Female', 'femaile': 'Female', 'femail': 'Female', 'femali': 'Female',\n",
        "        'femalen': 'Female', 'femal': 'Female', 'femalr': 'Female', 'femalw': 'Female', 'femaled': 'Female',\n",
        "        'femae': 'Female', 'feme': 'Female', 'babae': 'Female', 'cisgender female': 'Female', 'cis female': 'Female',\n",
        "        'women': 'Female', 'woman': 'Female', 'female (cishet)': 'Female', 'biological female': 'Female',\n",
        "        'heterosexual female': 'Female', 'female (queer)': 'Female', 'cisgender-female': 'Female',\n",
        "        'female, cisgender': 'Female', 'cis woman/female': 'Female', 'frmale': 'Female', '*sex = female': 'Female',\n",
        "        'male': 'Male', 'm': 'Male', 'make': 'Male', 'man': 'Male', 'cisgender male': 'Male', 'cis male': 'Male',\n",
        "        'male cisgender': 'Male', 'heterosexual male': 'Male', 'homosexual man': 'Male', 'males': 'Male',\n",
        "        'mqle': 'Male', 'norzagaray collegemale': 'Male', 'homosexual male': 'Male',\n",
        "        'lgbtq': 'LGBTQ+', 'gay': 'LGBTQ+', 'lesbian': 'LGBTQ+', 'queer': 'LGBTQ+', 'bisexual': 'LGBTQ+',\n",
        "        'bisexual woman': 'LGBTQ+', 'bisexual female': 'LGBTQ+', 'cis-gender, pansexual, masculine': 'LGBTQ+',\n",
        "        'nonbinary': 'LGBTQ+', 'non-binary': 'LGBTQ+', 'nb': 'LGBTQ+', 'gender fluid': 'LGBTQ+',\n",
        "        'non-conforming': 'LGBTQ+', 'non-conforming male': 'LGBTQ+', 'non-binary, presenting mainly as male': 'LGBTQ+',\n",
        "        'homosexual': 'LGBTQ+',\n",
        "        'prefer not to say': 'Prefer not to say', 'prefer not to mention': 'Prefer not to say',\n",
        "        'tired potato': 'Other', 'pogi': 'Other'\n",
        "    }\n",
        "    liyab['Cleaned Gender'] = liyab['Cleaned Gender'].map(gender_map).fillna(liyab['Cleaned Gender'])\n",
        "    allowed_genders = ['Female', 'Male', 'LGBTQ+', 'Prefer not to say', 'Other']\n",
        "    liyab['Cleaned Gender'] = liyab['Cleaned Gender'].apply(lambda x: x if x in allowed_genders else 'Other')\n",
        "    print(\"\nCleaned value counts for 'Cleaned Gender':\")\n",
        "    print(liyab['Cleaned Gender'].value_counts())\n"
      ]
    },
    {
      "cell_type": "markdown",
      "source": [
        "#### 3. University Cleaning (Refined)"
      ],
      "metadata": {
        "id": "jules_uni_markdown_refined"
      }
    },
    {
      "cell_type": "markdown",
      "source": [
        "#### 5. Other Date Column Validation (Placeholder)"
      ],
      "metadata": {
        "id": "jules_other_dates_markdown"
      }
    },
    {
      "cell_type": "code",
      "execution_count": 26,
      "metadata": {
        "id": "1pDryrRxOS1k_refined"
      },
      "outputs": [],
      "source": [
        "uni_col = 'What school did you graduate from?'\n",
        "if not liyab.empty and uni_col in liyab.columns:\n",
        "    liyab['Cleaned University'] = liyab[uni_col].astype(str).str.lower().str.strip()\n",
        "    liyab['Cleaned University'] = liyab['Cleaned University'].apply(lambda x: re.sub(r'\\s*\\([^)]*\\)\\s*', '', x).strip())\n",
        "    liyab['Cleaned University'] = liyab['Cleaned University'].apply(lambda x: re.sub(r'[^\\w\\s]', '', x))\n",
        "    liyab['Cleaned University'] = liyab['Cleaned University'].apply(lambda x: re.sub(r'\\s+', ' ', x).strip())\n",
        "    university_map = {\n",
        "        r'.*university philippines diliman.*': 'University of the Philippines Diliman', r'^upd$': 'University of the Philippines Diliman',\n",
        "        r'.*university philippines los banos.*': 'University of the Philippines Los Ba\u00f1os', r'^uplb$': 'University of the Philippines Los Ba\u00f1os',\n",
        "        r'.*university philippines manila.*': 'University of the Philippines Manila', r'^upm$': 'University of the Philippines Manila',\n",
        "        r'.*university philippines visayas.*': 'University of the Philippines Visayas', r'^upv$': 'University of the Philippines Visayas',\n",
        "        r'.*university philippines cebu.*': 'University of the Philippines Cebu',\n",
        "        r'.*university philippines baguio.*': 'University of the Philippines Baguio', r'^upb$': 'University of the Philippines Baguio',\n",
        "        r'.*university philippines mindanao.*': 'University of the Philippines Mindanao',\n",
        "        r'.*university philippines.*': 'University of the Philippines (Unspecified Campus)', r'^up$': 'University of the Philippines (Unspecified Campus)',\n",
        "        r'.*ateneo manila university.*': 'Ateneo de Manila University', r'^admu$': 'Ateneo de Manila University',\n",
        "        r'.*ateneo davao university.*': 'Ateneo de Davao University', r'^addu$': 'Ateneo de Davao University',\n",
        "        r'.*ateneo zamboanga university.*': 'Ateneo de Zamboanga University', r'^adzu$': 'Ateneo de Zamboanga University',\n",
        "        r'.*ateneo naga university.*': 'Ateneo de Naga University', r'^adnu$': 'Ateneo de Naga University',\n",
        "        r'.*xavier university.*': 'Xavier University - Ateneo de Cagayan', r'.*ateneo cagayan.*': 'Xavier University - Ateneo de Cagayan',\n",
        "        r'.*ateneo.*': 'Ateneo de Manila University',\n",
        "        r'.*de la salle university manila.*': 'De La Salle University Manila', r'^dlsu$': 'De La Salle University Manila',\n",
        "        r'.*de la salle college saint benilde.*': 'De La Salle-College of Saint Benilde', r'^csb$': 'De La Salle-College of Saint Benilde', r'^benilde$': 'De La Salle-College of Saint Benilde',\n",
        "        r'.*de la salle lipa.*': 'De La Salle Lipa', r'^dlsl$': 'De La Salle Lipa',\n",
        "        r'.*de la salle university dasmarinas.*': 'De La Salle University Dasmari\u00f1as', r'^dlsud$': 'De La Salle University Dasmari\u00f1as',\n",
        "        r'.*de la salle.*': 'De La Salle University Manila',\n",
        "        r'.*university santo tomas.*': 'University of Santo Tomas', r'^ust$': 'University of Santo Tomas',\n",
        "        r'.*mapua.*': 'Map\u00faa University',\n",
        "        r'.*polytechnic university philippines.*': 'Polytechnic University of the Philippines', r'^pup$': 'Polytechnic University of the Philippines',\n",
        "        r'.*adamson university.*': 'Adamson University',\n",
        "        r'.*far eastern university.*': 'Far Eastern University', r'^feu$': 'Far Eastern University',\n",
        "        r'.*lyceum philippines university.*': 'Lyceum of the Philippines University', r'^lpu$': 'Lyceum of the Philippines University',\n",
        "        r'.*national university.*': 'National University', r'^nu$': 'National University',\n",
        "        r'.*pamantasan lungsod maynila.*': 'Pamantasan ng Lungsod ng Maynila', r'^plm$': 'Pamantasan ng Lungsod ng Maynila',\n",
        "        r'.*san beda.*': 'San Beda University',\n",
        "        r'.*silliman university.*': 'Silliman University',\n",
        "        r'.*technological institute philippines.*': 'Technological Institute of the Philippines', r'^tip$': 'Technological Institute of the Philippines',\n",
        "        r'.*technological university philippines.*': 'Technological University of the Philippines', r'^tup$': 'Technological University of the Philippines',\n",
        "        r'.*university east.*': 'University of the East', r'^ue$': 'University of the East',\n",
        "        r'.*university san carlos.*': 'University of San Carlos', r'^usc$': 'University of San Carlos',\n",
        "        r'.*saint louis university.*': 'Saint Louis University Baguio', r'^slu$': 'Saint Louis University Baguio',\n",
        "        r'.*cebu institute technology.*': 'Cebu Institute of Technology - University', '^cit.*': 'Cebu Institute of Technology - University',\n",
        "        r'.*holy angel university.*': 'Holy Angel University', r'^hau$': 'Holy Angel University',\n",
        "        r'.*university rizal system.*': 'University of Rizal System', r'^urs$': 'University of Rizal System',\n",
        "        r'\\bstill in school\\b': 'Still Enrolled', r'\\bnot yet a graduate\\b': 'Still Enrolled', r'\\bnot yet graduated\\b': 'Still Enrolled',\n",
        "        r'\\bundergrad\\b': 'Still Enrolled / Did Not Graduate',\n",
        "        r'\\bdidnt graduate\\b': 'Did Not Graduate', r'\\bcollege dropout\\b': 'Did Not Graduate',\n",
        "        r'\\bhigh school\\b': 'High School Graduate', r'\\bhs grad\\b': 'High School Graduate',\n",
        "        r'^na$': 'Not Applicable', r'^n a$': 'Not Applicable', r'nan': 'Not Specified',\n",
        "        r'.*prefer not to say.*': 'Prefer Not to Say',\n",
        "        r'\\bvocational\\b': 'Vocational Graduate',\n",
        "        r'^\\d{4}$': 'Invalid Entry (Year)',\n",
        "        r'^\\s*$': 'Not Specified'\n",
        "    }\n",
        "    temp_uni_values = liyab['Cleaned University'].copy()\n",
        "    for pattern, standard_name in university_map.items():\n",
        "        mask = temp_uni_values.str.contains(pattern, regex=True, case=False, na=False)\n",
        "        temp_uni_values[mask] = standard_name\n",
        "    liyab['Cleaned University'] = temp_uni_values\n",
        "    known_and_special_categories = set(university_map.values())\n",
        "    def categorize_remaining(uni_name_str):\n",
        "        if uni_name_str in known_and_special_categories: return uni_name_str\n",
        "        if pd.isna(uni_name_str) or uni_name_str.strip() == '': return 'Not Specified'\n",
        "        keywords = ['university', 'college', 'institute', 'polytechnic', 'academy', 'school']\n",
        "        if any(keyword in uni_name_str for keyword in keywords) and len(uni_name_str) > 3:\n",
        "            return 'UNIDENTIFIED_OR_VAGUE_UNIVERSITY'\n",
        "        return 'UNIDENTIFIED_OR_VAGUE_UNIVERSITY'\n",
        "    liyab['Cleaned University'] = liyab['Cleaned University'].apply(categorize_remaining)\n",
        "    liyab['Cleaned University'].fillna('UNIDENTIFIED_OR_VAGUE_UNIVERSITY', inplace=True)\n",
        "    print(f\"Value counts before removing vague entries:\n{liyab['Cleaned University'].value_counts()}\n\")\n",
        "    rows_before_vague_removal = len(liyab)\n",
        "    categories_to_remove_strict = ['UNIDENTIFIED_OR_VAGUE_UNIVERSITY', 'Invalid Entry (Year)', 'Not Specified']\n",
        "    liyab = liyab[~liyab['Cleaned University'].isin(categories_to_remove_strict)]\n",
        "    print(f\"Rows removed due to vague, invalid or unspecified university: {rows_before_vague_removal - len(liyab)}\")\n",
        "    print(f\"\nFinal university value counts:\n{liyab['Cleaned University'].value_counts()}\n\")\n"
      ]
    },
    {
      "cell_type": "markdown",
      "source": [
        "#### 4. Industry Cleaning"
      ],
      "metadata": {
        "id": "jules_industry_markdown_2"
      }
    },
    {
      "cell_type": "code",
      "execution_count": null,
      "metadata": {
        "id": "jules_install_sentence_transformers_2"
      },
      "outputs": [],
      "source": [
        "!pip install sentence-transformers scikit-learn"
      ]
    },
    {
      "cell_type": "markdown",
      "source": [
        "#### 5. Job Role Cleaning"
      ],
      "metadata": {
        "id": "jules_role_markdown"
      }
    },
    {
      "cell_type": "code",
      "execution_count": null,
      "metadata": {
        "id": "jules_role_code"
      },
      "outputs": [],
      "source": [
        "role_col = 'What was your role?'\n",
        "if not liyab.empty and role_col in liyab.columns:\n",
        "    liyab['Cleaned Role'] = liyab[role_col].astype(str).str.lower().str.strip()\n",
        "    role_map = {\n",
        "        r'.*software engineer.*': 'Software Engineer',\n",
        "        r'.*developer.*': 'Developer',\n",
        "        r'.*analyst.*': 'Analyst',\n",
        "        r'.*consultant.*': 'Consultant',\n",
        "        r'.*engineer.*': 'Engineer',\n",
        "        r'.*manager.*': 'Manager',\n",
        "        r'.*specialist.*': 'Specialist',\n",
        "        r'.*assistant.*': 'Assistant',\n",
        "        r'.*associate.*': 'Associate',\n",
        "        r'.*researcher.*': 'Researcher',\n",
        "        r'.*teacher.*': 'Teacher',\n",
        "        r'.*instructor.*': 'Instructor',\n",
        "        r'.*professor.*': 'Professor',\n",
        "        r'.*officer.*': 'Officer',\n",
        "        r'.*designer.*': 'Designer',\n",
        "        r'.*writer.*': 'Writer',\n",
        "        r'.*editor.*': 'Editor',\n",
        "        r'.*planner.*': 'Planner',\n",
        "        r'.*coordinator.*': 'Coordinator',\n",
        "        r'.*architect.*': 'Architect',\n",
        "        r'.*auditor.*': 'Auditor',\n",
        "        r'.*accountant.*': 'Accountant',\n",
        "        r'.*supervisor.*': 'Supervisor',\n",
        "        r'.*lead.*': 'Lead',\n",
        "        r'.*head.*': 'Head',\n",
        "        r'.*intern.*': 'Intern',\n",
        "        r'.*trainee.*': 'Trainee'\n",
        "    }\n",
        "    temp_role_values = liyab['Cleaned Role'].copy()\n",
        "    for pattern, standard_name in role_map.items():\n",
        "        mask = temp_role_values.str.contains(pattern, regex=True, case=False, na=False)\n",
        "        temp_role_values[mask] = standard_name\n",
        "    liyab['Cleaned Role'] = temp_role_values\n",
        "    print(\"\\nCleaned value counts for 'Cleaned Role':\")\n",
        "    print(liyab['Cleaned Role'].value_counts())\n"
      ]
    },
    {
      "cell_type": "markdown",
      "source": [
        "#### 6. Negotiation Cleaning"
      ],
      "metadata": {
        "id": "jules_negotiation_markdown"
      }
    },
    {
      "cell_type": "code",
      "execution_count": null,
      "metadata": {
        "id": "jules_negotiation_code"
      },
      "outputs": [],
      "source": [
        "negotiate_col = 'Did you negotiate your job offer?'\n",
        "if not liyab.empty and negotiate_col in liyab.columns:\n",
        "    liyab['Cleaned Negotiation'] = liyab[negotiate_col].astype(str).str.lower().str.strip()\n",
        "    negotiate_map = {\n",
        "        'yes': 'Yes',\n",
        "        'no': 'No',\n",
        "        'i tried but they did not budge': 'No'\n",
        "    }\n",
        "    liyab['Cleaned Negotiation'] = liyab['Cleaned Negotiation'].map(negotiate_map).fillna('No')\n",
        "    print(\"\\nCleaned value counts for 'Cleaned Negotiation':\")\n",
        "    print(liyab['Cleaned Negotiation'].value_counts())\n"
      ]
    },
    {
      "cell_type": "code",
      "execution_count": null,
      "metadata": {
        "id": "qExufkMEAAuq_2"
      },
      "outputs": [],
      "source": [
        "from sentence_transformers import SentenceTransformer\n",
        "from sklearn.metrics.pairwise import cosine_similarity\n",
        "from collections import defaultdict\n",
        "\n",
        "industry_col = 'In what industry was this job?'\n",
        "if not liyab.empty and industry_col in liyab.columns:\n",
        "    def normalize_industry(s):\n",
        "        if not isinstance(s, str): return ''\n",
        "        s = s.lower().strip()\n",
        "        s = re.sub(r'[^a-z0-9\\s]', '', s)\n",
        "        s = re.sub(r'\\s+', ' ', s).strip()\n",
        "        return s\n",
        "    master_categories = [\n",
        "        \"Accountancy, Banking and Finance\", \"Business Process Outsourcing (BPO)\",\n",
        "        \"Business, Consulting and Management\", \"Charity and Voluntary Work (NGO)\",\n",
        "        \"Creative Arts, Design and Media\", \"Energy and Utilities\",\n",
        "        \"Engineering and Manufacturing\", \"Environment and Agriculture\",\n",
        "        \"Healthcare and Pharmaceuticals\", \"Hospitality, Events, Leisure, Sport and Tourism\",\n",
        "        \"Information Technology (IT)\", \"Law and Legal Services\", \"Law Enforcement and Security\",\n",
        "        \"Marketing, Advertising and Public Relations (PR)\", \"Property and Construction\",\n",
        "        \"Public Services and Administration (Government)\", \"Recruitment and Human Resources (HR)\",\n",
        "        \"Retail and E-commerce\", \"Sales\", \"Education and Training\", \"Transport and Logistics\", \"Other\"\n",
        "    ]\n",
        "    model = SentenceTransformer('all-MiniLM-L6-v2')\n",
        "    category_embeddings = model.encode(master_categories)\n",
        "    liyab[industry_col].fillna('', inplace=True)\n",
        "    unique_normalized_entries = liyab[industry_col].apply(normalize_industry).unique()\n",
        "    unique_normalized_entries = [e for e in unique_normalized_entries if e]\n",
        "    normalized_entry_to_category = {}\n",
        "    if unique_normalized_entries:\n",
        "        entry_embeddings = model.encode(unique_normalized_entries)\n",
        "        for i, entry_vector in enumerate(entry_embeddings):\n",
        "            similarities = cosine_similarity([entry_vector], category_embeddings)[0]\n",
        "            best_category_idx = np.argmax(similarities)\n",
        "            normalized_entry_to_category[unique_normalized_entries[i]] = master_categories[best_category_idx]\n",
        "    manual_overrides = {\n",
        "        'bpo': \"Business Process Outsourcing (BPO)\", 'call center': \"Business Process Outsourcing (BPO)\",\n",
        "        'kpo': \"Business Process Outsourcing (BPO)\", 'shared services': \"Business Process Outsourcing (BPO)\",\n",
        "        'itbpo': \"Information Technology (IT)\", 'software engineering': \"Information Technology (IT)\",\n",
        "        'fintech': \"Accountancy, Banking and Finance\", 'ecommerce': \"Retail and E-commerce\",\n",
        "        'government': \"Public Services and Administration (Government)\", 'ngo': \"Charity and Voluntary Work (NGO)\",\n",
        "        'real estate': \"Property and Construction\", 'academe': \"Education and Training\",\n",
        "        'education': \"Education and Training\", 'teaching': \"Education and Training\",\n",
        "        'architecture': \"Property and Construction\", 'construction': \"Property and Construction\",\n",
        "        'advertising': \"Marketing, Advertising and Public Relations (PR)\",\n",
        "        'media': \"Creative Arts, Design and Media\", 'telecommunications': \"Information Technology (IT)\",\n",
        "        'pharmaceutical': \"Healthcare and Pharmaceuticals\", 'aviation': \"Transport and Logistics\"\n",
        "    }\n",
        "    for norm_key, override_cat in manual_overrides.items():\n",
        "        normalized_entry_to_category[norm_key] = override_cat\n",
        "    def map_to_final_industry_category(original_value):\n",
        "        normalized_val = normalize_industry(original_value)\n",
        "        if not normalized_val: return 'Not Specified'\n",
        "        return normalized_entry_to_category.get(normalized_val, 'Other')\n",
        "    liyab['Cleaned Industry'] = liyab[industry_col].apply(map_to_final_industry_category)\n",
        "    print(\"\nCleaned value counts for 'Cleaned Industry':\")\n",
        "    print(liyab['Cleaned Industry'].value_counts(dropna=False))\n"
      ]
    },
    {
      "cell_type": "markdown",
      "source": [
        "#### 5. Final Filtering and Column Selection"
      ],
      "metadata": {
        "id": "jules_final_filter_markdown"
      }
    },
    {
      "cell_type": "code",
      "execution_count": null,
      "metadata": {
        "id": "jules_final_filter_code"
      },
      "outputs": [],
      "source": [
        "if not liyab.empty:\n",
        "    salary_column_guess = next((col for col in liyab.columns if 'salary' in col.lower() and 'monthly' in col.lower()), None)\n",
        "    if salary_column_guess:\n",
        "        print(f\"Identified salary column: {salary_column_guess}\")\n",
        "        if liyab[salary_column_guess].dtype == 'object':\n",
        "            liyab[salary_column_guess] = liyab[salary_column_guess].astype(str).str.replace(r'[^\\d.]', '', regex=True)\n",
        "        liyab[salary_column_guess] = pd.to_numeric(liyab[salary_column_guess], errors='coerce')\n",
        "        original_rows = len(liyab)\n",
        "        liyab.dropna(subset=[salary_column_guess], inplace=True)\n",
        "        print(f\"Rows removed due to missing salary data: {original_rows - len(liyab)}\")\n",
        "    else:\n",
        "        print(\"Could not identify a salary column. Final filtering may be incomplete.\")\n",
        "    \n",
        "    if 'Cleaned University' in liyab.columns:\n",
        "        original_rows = len(liyab)\n",
        "        uni_categories_to_drop_final = ['Still Enrolled', 'Still Enrolled / Did Not Graduate', 'Did Not Graduate', \n",
        "                                  'High School Graduate', 'Not Applicable', 'Prefer Not to Say', 'Vocational Graduate']\n",
        "        liyab = liyab[~liyab['Cleaned University'].isin(uni_categories_to_drop_final)]\n",
        "        print(f\"Rows removed due to unsuitable university categories (non-grads, etc.): {original_rows - len(liyab)}\")\n",
        "\n",
        "    print(f\"\nFinal shape of the cleaned DataFrame: {liyab.shape}\")\n",
        "\n",
        "    # Final column selection\n",
    "    columns_to_keep = [col for col in [salary_column_guess, 'Cleaned University', 'Cleaned Industry', 'Cleaned Gender', 'What year did you start your first job?', 'Cleaned Role', 'Cleaned Negotiation'] if col is not None and col in liyab.columns]\n",
        "    if columns_to_keep:\n",
        "        liyab_final = liyab[columns_to_keep].copy()\n",
        "        print(\"\nFinal selected DataFrame for modeling (liyab_final):\")\n",
        "        print(liyab_final.head())\n",
        "        print(f\"Shape of liyab_final: {liyab_final.shape}\")\n",
        "    else:\n",
        "        print(\"\nNo columns selected for the final DataFrame.\")\n",
        "        liyab_final = pd.DataFrame()\n"
      ]
    }
  ],
  "metadata": {
    "kernelspec": {
      "display_name": "Python 3",
      "name": "python3"
    },
    "language_info": {
      "name": "python"
    }
  },
  "nbformat": 4,
  "nbformat_minor": 0
}
