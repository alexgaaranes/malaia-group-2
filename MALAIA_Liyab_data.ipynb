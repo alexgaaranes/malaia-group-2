{
  "cells": [
    {
      "cell_type": "markdown",
      "metadata": {
        "id": "view-in-github",
        "colab_type": "text"
      },
      "source": [
        "<a href=\"https://colab.research.google.com/github/alexgaaranes/malaia-group-2/blob/main/MALAIA_Liyab_data.ipynb\" target=\"_parent\"><img src=\"https://colab.research.google.com/assets/colab-badge.svg\" alt=\"Open In Colab\"/></a>"
      ]
    },
    {
      "cell_type": "markdown",
      "metadata": {
        "id": "UGayg6iNVpR4"
      },
      "source": [
        "# MALAIA - Group 2\n",
        "\n",
        "---\n",
        "##### Predicting Starting Salaries of Filipino Graduates Using Academic Background and Industry Placement: A Machine Learning Approach Based on the Liyab First Pay Survey\n",
        "\n",
        "<br>\n",
        "\n",
        "Cleaning data from [**Liyab First Pay Survey dataset**](https://docs.google.com/spreadsheets/d/1gnA91Tjr_3UCNV8x1_LoE0oC56r-pXXRdJcgTfOLlm0/edit?gid=549575995#gid=549575995)"
      ]
    },
    {
      "cell_type": "markdown",
      "source": [
        "### Data Prep and Initial Exploration"
      ],
      "metadata": {
        "id": "MF5Rm288S1Jj"
      }
    },
    {
      "cell_type": "code",
      "execution_count": 18,
      "metadata": {
        "colab": {
          "base_uri": "https://localhost:8080/"
        },
        "id": "HhkncAQ4Mn6b",
        "outputId": "469e76e8-9bd8-4f1b-d524-f82942282805"
      },
      "outputs": [
        {
          "output_type": "stream",
          "name": "stdout",
          "text": [
            "Drive already mounted at /content/drive; to attempt to forcibly remount, call drive.mount(\"/content/drive\", force_remount=True).\n"
          ]
        }
      ],
      "source": [
        "# Mounting Google Drive. If running locally, ensure 'liyab.csv' is in the same directory or provide the correct path.\n",
        "try:\n",
        "    from google.colab import drive\n",
        "    drive.mount('/content/drive')\n",
        "    # Update this path if your file is located elsewhere in Google Drive\n",
        "    csv_path = \"/content/drive/Shareddrives/MALAIA Group 2/liyab_data/liyab.csv\"\n",
        "except ModuleNotFoundError:\n",
        "    print(\"Not running in Colab. Assuming 'liyab.csv' is in the current directory or accessible via a local path.\")\n",
        "    csv_path = \"liyab.csv\" # Adjust if your local path is different"
      ]
    },
    {
      "cell_type": "code",
      "execution_count": 19,
      "metadata": {
        "id": "6RLzf8bCDeSe",
        "colab": {
          "base_uri": "https://localhost:8080/"
        },
        "outputId": "dce8c41c-f567-4721-e801-15d412d73f45"
      },
      "outputs": [
        {
          "output_type": "stream",
          "name": "stdout",
          "text": [
            "Successfully loaded data. Shape: (2933, 9)\n"
          ]
        }
      ],
      "source": [
        "import pandas as pd\n",
        "import numpy as np\n",
        "import re\n",
        "\n",
        "# Read data\n",
        "try:\n",
        "    liyab = pd.read_csv(csv_path)\n",
        "except FileNotFoundError:\n",
        "    print(f\"Error: The file {csv_path} was not found. Please check the path.\")\n",
        "    # In a real scenario, you might stop execution here or try a fallback path\n",
        "    liyab = pd.DataFrame() # Create an empty DataFrame to prevent further errors if file not found\n",
        "\n",
        "print(f\"Successfully loaded data. Shape: {liyab.shape}\")"
      ]
    },
    {
      "cell_type": "code",
      "execution_count": 20,
      "metadata": {
        "id": "jules_initial_exploration",
        "colab": {
          "base_uri": "https://localhost:8080/"
        },
        "outputId": "23a612b4-c6f5-4cf5-af75-ab6875032165"
      },
      "outputs": [
        {
          "output_type": "stream",
          "name": "stdout",
          "text": [
            "Initial Data Information:\n",
            "<class 'pandas.core.frame.DataFrame'>\n",
            "RangeIndex: 2933 entries, 0 to 2932\n",
            "Data columns (total 9 columns):\n",
            " #   Column                                                                                   Non-Null Count  Dtype  \n",
            "---  ------                                                                                   --------------  -----  \n",
            " 0   Timestamp                                                                                2933 non-null   object \n",
            " 1   What year did you start your first job?                                                  2933 non-null   int64  \n",
            " 2   In what industry was this job?                                                           2933 non-null   object \n",
            " 3   What was your role?                                                                      2933 non-null   object \n",
            " 4   What was your monthly salary (in PHP)?                                                   2933 non-null   float64\n",
            " 5   What school did you graduate from?                                                       2766 non-null   object \n",
            " 6   What is your gender?                                                                     2803 non-null   object \n",
            " 7   Did you negotiate your job offer?                                                        2879 non-null   object \n",
            " 8   If you can provide additional context to any of your answers above, you can do so here.  1166 non-null   object \n",
            "dtypes: float64(1), int64(1), object(7)\n",
            "memory usage: 206.4+ KB\n",
            "\n",
            "Missing Values per Column:\n",
            "Timestamp                                                                                     0\n",
            "What year did you start your first job?                                                       0\n",
            "In what industry was this job?                                                                0\n",
            "What was your role?                                                                           0\n",
            "What was your monthly salary (in PHP)?                                                        0\n",
            "What school did you graduate from?                                                          167\n",
            "What is your gender?                                                                        130\n",
            "Did you negotiate your job offer?                                                            54\n",
            "If you can provide additional context to any of your answers above, you can do so here.    1767\n",
            "dtype: int64\n",
            "\n",
            "First 5 Rows:\n",
            "            Timestamp  What year did you start your first job?  \\\n",
            "0  1/21/2020 12:57:30                                     2014   \n",
            "1  1/21/2020 12:59:09                                     2017   \n",
            "2  1/21/2020 13:31:10                                     2016   \n",
            "3  1/21/2020 13:34:33                                     2011   \n",
            "4  1/21/2020 14:34:42                                     2008   \n",
            "\n",
            "  In what industry was this job?      What was your role?  \\\n",
            "0                        Banking             HR Associate   \n",
            "1                        Fintech     Business Development   \n",
            "2                        Academe           Junior Partner   \n",
            "3                        Banking  Resourcing & Compliance   \n",
            "4                Market Research       Research Associate   \n",
            "\n",
            "   What was your monthly salary (in PHP)? What school did you graduate from?  \\\n",
            "0                                 18000.0                         UP Diliman   \n",
            "1                                 15000.0                   Mapua University   \n",
            "2                                 32615.0                         UP Diliman   \n",
            "3                                 15000.0                               DLSU   \n",
            "4                                 16000.0                         UP Diliman   \n",
            "\n",
            "  What is your gender? Did you negotiate your job offer?  \\\n",
            "0               Female                                No   \n",
            "1                 Male                                No   \n",
            "2               Female                                No   \n",
            "3               Female                                No   \n",
            "4               Female                                No   \n",
            "\n",
            "  If you can provide additional context to any of your answers above, you can do so here.  \n",
            "0                                                NaN                                       \n",
            "1                                                NaN                                       \n",
            "2                                                NaN                                       \n",
            "3                                                NaN                                       \n",
            "4  Salary figure is gross income, excluding bonus...                                       \n",
            "\n",
            "Column Names:\n",
            "['Timestamp', 'What year did you start your first job?', 'In what industry was this job?', 'What was your role?', 'What was your monthly salary (in PHP)?', 'What school did you graduate from?', 'What is your gender?', 'Did you negotiate your job offer?', 'If you can provide additional context to any of your answers above, you can do so here.']\n"
          ]
        }
      ],
      "source": [
        "print(\"Initial Data Information:\")\n",
        "if not liyab.empty:\n",
        "    liyab.info()\n",
        "    print(\"\\nMissing Values per Column:\")\n",
        "    print(liyab.isnull().sum())\n",
        "    print(\"\\nFirst 5 Rows:\")\n",
        "    print(liyab.head())\n",
        "    print(\"\\nColumn Names:\")\n",
        "    print(liyab.columns.tolist())\n",
        "else:\n",
        "    print(\"DataFrame is empty. Cannot display info.\")"
      ]
    },
    {
      "cell_type": "markdown",
      "metadata": {
        "id": "3383GCV1dRYk"
      },
      "source": [
        "### Data Cleaning"
      ]
    },
    {
      "cell_type": "markdown",
      "source": [
        "#### 1. Year Started First Job"
      ],
      "metadata": {
        "id": "jules_year_markdown"
      }
    },
    {
      "cell_type": "code",
      "execution_count": 21,
      "metadata": {
        "id": "M6mTtoyKxvI5",
        "colab": {
          "base_uri": "https://localhost:8080/"
        },
        "outputId": "7752c0ce-42ca-4abb-e250-8987dee1441a"
      },
      "outputs": [
        {
          "output_type": "stream",
          "name": "stdout",
          "text": [
            "Original value counts for 'What year did you start your first job?':\n",
            "What year did you start your first job?\n",
            "2       1\n",
            "18      1\n",
            "19      1\n",
            "20      2\n",
            "21      1\n",
            "208     1\n",
            "209     1\n",
            "1987    1\n",
            "1992    1\n",
            "1997    1\n",
            "Name: count, dtype: int64\n",
            "\n",
            "Rows removed due to invalid/outside range year: 11\n",
            "Cleaned value counts for 'What year did you start your first job?':\n",
            "What year did you start your first job?\n",
            "1987      1\n",
            "1992      1\n",
            "1997      1\n",
            "1998      2\n",
            "1999      3\n",
            "2000      3\n",
            "2001      2\n",
            "2002      5\n",
            "2003      7\n",
            "2004      6\n",
            "2005     18\n",
            "2006     18\n",
            "2007     18\n",
            "2008     21\n",
            "2009     31\n",
            "2010     42\n",
            "2011     65\n",
            "2012     89\n",
            "2013    118\n",
            "2014    142\n",
            "2015    193\n",
            "2016    291\n",
            "2017    441\n",
            "2018    574\n",
            "2019    649\n",
            "2020    112\n",
            "2021     24\n",
            "2022     27\n",
            "2023      6\n",
            "2024     10\n",
            "2025      2\n",
            "Name: count, dtype: int64\n"
          ]
        },
        {
          "output_type": "stream",
          "name": "stderr",
          "text": [
            "/tmp/ipython-input-21-2290528232.py:14: SettingWithCopyWarning: \n",
            "A value is trying to be set on a copy of a slice from a DataFrame.\n",
            "Try using .loc[row_indexer,col_indexer] = value instead\n",
            "\n",
            "See the caveats in the documentation: https://pandas.pydata.org/pandas-docs/stable/user_guide/indexing.html#returning-a-view-versus-a-copy\n",
            "  liyab[year_col] = liyab[year_col].astype(int)\n"
          ]
        }
      ],
      "source": [
        "year_col = 'What year did you start your first job?'\n",
        "if not liyab.empty and year_col in liyab.columns:\n",
        "    print(f\"Original value counts for '{year_col}':\")\n",
        "    print(liyab[year_col].value_counts().sort_index().head(10)) # Show some problematic ones if any\n",
        "\n",
        "    # Convert to numeric, coercing errors. This handles non-numeric strings.\n",
        "    liyab[year_col] = pd.to_numeric(liyab[year_col], errors='coerce')\n",
        "\n",
        "    # Filter rows with years outside the plausible range (1987-2025)\n",
        "    # Also drops rows where year became NaN due to non-numeric original values\n",
        "    original_rows = len(liyab)\n",
        "    liyab.dropna(subset=[year_col], inplace=True) # Remove NaNs from coerce\n",
        "    liyab = liyab[liyab[year_col].between(1987, 2025)]\n",
        "    liyab[year_col] = liyab[year_col].astype(int)\n",
        "    print(f\"\\nRows removed due to invalid/outside range year: {original_rows - len(liyab)}\")\n",
        "    print(f\"Cleaned value counts for '{year_col}':\")\n",
        "    print(liyab[year_col].value_counts().sort_index())\n",
        "else:\n",
        "    print(f\"Column '{year_col}' not found or DataFrame is empty.\")"
      ]
    },
    {
      "cell_type": "markdown",
      "source": [
        "#### 2. Gender Cleaning"
      ],
      "metadata": {
        "id": "jules_gender_markdown"
      }
    },
    {
      "cell_type": "code",
      "execution_count": 22,
      "metadata": {
        "id": "k6K5_Mm-aozH",
        "colab": {
          "base_uri": "https://localhost:8080/"
        },
        "outputId": "b9cb7837-07b4-4edd-bbab-a7f54aeb92c3"
      },
      "outputs": [
        {
          "output_type": "stream",
          "name": "stdout",
          "text": [
            "Original value counts for 'What is your gender?':\n",
            "What is your gender?\n",
            "Female     1404\n",
            "Male        862\n",
            "F           246\n",
            "M            92\n",
            "Female       42\n",
            "female       29\n",
            "male         11\n",
            "FEMALE       11\n",
            "Woman         6\n",
            "MALE          5\n",
            "Name: count, dtype: int64\n",
            "\n",
            "Cleaned value counts for 'Cleaned Gender':\n",
            "Cleaned Gender\n",
            "Female               1769\n",
            "Male                  991\n",
            "Other                 135\n",
            "LGBTQ+                 25\n",
            "Prefer not to say       2\n",
            "Name: count, dtype: int64\n"
          ]
        },
        {
          "output_type": "stream",
          "name": "stderr",
          "text": [
            "/tmp/ipython-input-22-936689431.py:6: SettingWithCopyWarning: \n",
            "A value is trying to be set on a copy of a slice from a DataFrame.\n",
            "Try using .loc[row_indexer,col_indexer] = value instead\n",
            "\n",
            "See the caveats in the documentation: https://pandas.pydata.org/pandas-docs/stable/user_guide/indexing.html#returning-a-view-versus-a-copy\n",
            "  liyab['Cleaned Gender'] = liyab[gender_col].astype(str).str.lower().str.strip()\n",
            "/tmp/ipython-input-22-936689431.py:79: SettingWithCopyWarning: \n",
            "A value is trying to be set on a copy of a slice from a DataFrame.\n",
            "Try using .loc[row_indexer,col_indexer] = value instead\n",
            "\n",
            "See the caveats in the documentation: https://pandas.pydata.org/pandas-docs/stable/user_guide/indexing.html#returning-a-view-versus-a-copy\n",
            "  liyab['Cleaned Gender'] = liyab['Cleaned Gender'].map(gender_map).fillna(liyab['Cleaned Gender'])\n",
            "/tmp/ipython-input-22-936689431.py:83: SettingWithCopyWarning: \n",
            "A value is trying to be set on a copy of a slice from a DataFrame.\n",
            "Try using .loc[row_indexer,col_indexer] = value instead\n",
            "\n",
            "See the caveats in the documentation: https://pandas.pydata.org/pandas-docs/stable/user_guide/indexing.html#returning-a-view-versus-a-copy\n",
            "  liyab['Cleaned Gender'] = liyab['Cleaned Gender'].apply(lambda x: x if x in allowed_genders else 'Other')\n"
          ]
        }
      ],
      "source": [
        "gender_col = 'What is your gender?'\n",
        "if not liyab.empty and gender_col in liyab.columns:\n",
        "    print(f\"Original value counts for '{gender_col}':\")\n",
        "    print(liyab[gender_col].value_counts().head(10))\n",
        "\n",
        "    liyab['Cleaned Gender'] = liyab[gender_col].astype(str).str.lower().str.strip()\n",
        "\n",
        "    gender_map = {\n",
        "        # FEMALE variants\n",
        "        'female': 'Female',\n",
        "        'f': 'Female',\n",
        "        'femaile': 'Female',\n",
        "        'femail': 'Female',\n",
        "        'femali': 'Female',\n",
        "        'femalen': 'Female',\n",
        "        'femal': 'Female',\n",
        "        'femalr': 'Female',\n",
        "        'femalw': 'Female',\n",
        "        'femaled': 'Female',\n",
        "        'femae': 'Female',\n",
        "        'feme': 'Female',\n",
        "        'babae': 'Female',\n",
        "        'cisgender female': 'Female',\n",
        "        'cis female': 'Female',\n",
        "        'women': 'Female',\n",
        "        'woman': 'Female',\n",
        "        'female (cishet)': 'Female',\n",
        "        'biological female': 'Female',\n",
        "        'heterosexual female': 'Female',\n",
        "        'female (queer)': 'Female',\n",
        "        'cisgender-female': 'Female',\n",
        "        'female, cisgender': 'Female',\n",
        "        'cis woman/female': 'Female',\n",
        "        'frmale': 'Female',\n",
        "        '*sex = female': 'Female',\n",
        "\n",
        "        # MALE variants\n",
        "        'male': 'Male',\n",
        "        'm': 'Male',\n",
        "        'make': 'Male',\n",
        "        'man': 'Male',\n",
        "        'cisgender male': 'Male',\n",
        "        'cis male': 'Male',\n",
        "        'male cisgender': 'Male',\n",
        "        'heterosexual male': 'Male',\n",
        "        'homosexual man': 'Male', # Categorizing by gender identity primarily\n",
        "        'males': 'Male',\n",
        "        'mqle': 'Male',\n",
        "        'norzagaray collegemale': 'Male', # This appeared in earlier exploration, likely a data entry error\n",
        "        'homosexual male': 'Male',\n",
        "\n",
        "        # LGBTQ+\n",
        "        'lgbtq': 'LGBTQ+',\n",
        "        'gay': 'LGBTQ+',\n",
        "        'lesbian': 'LGBTQ+',\n",
        "        'queer': 'LGBTQ+',\n",
        "        'bisexual': 'LGBTQ+',\n",
        "        'bisexual woman': 'LGBTQ+',\n",
        "        'bisexual female': 'LGBTQ+',\n",
        "        'cis-gender, pansexual, masculine': 'LGBTQ+',\n",
        "        'nonbinary': 'LGBTQ+',\n",
        "        'non-binary': 'LGBTQ+',\n",
        "        'nb': 'LGBTQ+',\n",
        "        'gender fluid': 'LGBTQ+',\n",
        "        'non-conforming': 'LGBTQ+',\n",
        "        'non-conforming male': 'LGBTQ+',\n",
        "        'non-binary, presenting mainly as male': 'LGBTQ+',\n",
        "        'homosexual': 'LGBTQ+', # General homosexual if not specified as man/woman for gender\n",
        "\n",
        "        # PREFER NOT TO SAY\n",
        "        'prefer not to say': 'Prefer not to say',\n",
        "        'prefer not to mention': 'Prefer not to say',\n",
        "\n",
        "        # OTHERs (explicitly mapped, rest will become 'Other')\n",
        "        'tired potato': 'Other',\n",
        "        'pogi': 'Other' # Humorous entry\n",
        "    }\n",
        "\n",
        "    liyab['Cleaned Gender'] = liyab['Cleaned Gender'].map(gender_map).fillna(liyab['Cleaned Gender'])\n",
        "\n",
        "    # Consolidate remaining unmapped values to 'Other'\n",
        "    allowed_genders = ['Female', 'Male', 'LGBTQ+', 'Prefer not to say', 'Other']\n",
        "    liyab['Cleaned Gender'] = liyab['Cleaned Gender'].apply(lambda x: x if x in allowed_genders else 'Other')\n",
        "\n",
        "    # Optional: Drop original gender column and rename\n",
        "    # liyab.drop(columns=[gender_col], inplace=True)\n",
        "    # liyab.rename(columns={'Cleaned Gender': gender_col}, inplace=True)\n",
        "\n",
        "    print(\"\\nCleaned value counts for 'Cleaned Gender':\")\n",
        "    print(liyab['Cleaned Gender'].value_counts())\n",
        "else:\n",
        "    print(f\"Column '{gender_col}' not found or DataFrame is empty.\")"
      ]
    },
    {
      "cell_type": "markdown",
      "source": [
        "#### 3. University Cleaning"
      ],
      "metadata": {
        "id": "jules_uni_markdown"
      }
    },
    {
      "cell_type": "code",
      "execution_count": 23,
      "metadata": {
        "id": "1pDryrRxOS1k",
        "colab": {
          "base_uri": "https://localhost:8080/"
        },
        "outputId": "a6b3e1d3-ff7f-44d2-8fa7-9a62f9abba0e"
      },
      "outputs": [
        {
          "output_type": "stream",
          "name": "stdout",
          "text": [
            "\n",
            "Cleaned value counts for 'Cleaned University':\n",
            "Cleaned University\n",
            "Other University                                      1004\n",
            "Ateneo de Manila University                            407\n",
            "University of the Philippines Diliman                  389\n",
            "De La Salle University Manila                          235\n",
            "Not Specified                                          187\n",
            "University of Santo Tomas                              151\n",
            "University of the Philippines Los Baños                 83\n",
            "University of the Philippines (Unspecified Campus)      75\n",
            "Polytechnic University of the Philippines               44\n",
            "University of the Philippines Manila                    42\n",
            "Far Eastern University                                  42\n",
            "University of Baguio                                    28\n",
            "Miriam College                                          25\n",
            "Mapúa University                                        22\n",
            "Asia Pacific College                                    19\n",
            "San Beda University                                     15\n",
            "University of the Philippines Visayas                   15\n",
            "Silliman University                                     13\n",
            "Pamantasan ng Lungsod ng Maynila                        11\n",
            "University of the Philippines Baguio                    10\n",
            "Holy Angel University                                   10\n",
            "Adamson University                                      10\n",
            "Still Enrolled / Did Not Graduate                        8\n",
            "Mindanao State University (Unspecified Campus)           7\n",
            "University of the Philippines Mindanao                   7\n",
            "University of the Philippines Cebu                       6\n",
            "Technological University of the Philippines              6\n",
            "University of San Carlos                                 5\n",
            "High School Graduate                                     5\n",
            "STI College                                              5\n",
            "National University                                      5\n",
            "Lyceum of the Philippines University                     4\n",
            "iACADEMY                                                 4\n",
            "Central Philippine University                            4\n",
            "Invalid Entry (Year)                                     3\n",
            "Did Not Graduate                                         3\n",
            "Still Enrolled                                           3\n",
            "Not Applicable                                           3\n",
            "Enderun Colleges                                         2\n",
            "AMA Computer University                                  2\n",
            "University of the East                                   1\n",
            "Overseas University                                      1\n",
            "Prefer Not to Say                                        1\n",
            "Name: count, dtype: int64\n"
          ]
        },
        {
          "output_type": "stream",
          "name": "stderr",
          "text": [
            "/tmp/ipython-input-23-2198118308.py:187: FutureWarning: A value is trying to be set on a copy of a DataFrame or Series through chained assignment using an inplace method.\n",
            "The behavior will change in pandas 3.0. This inplace method will never work because the intermediate object on which we are setting values always behaves as a copy.\n",
            "\n",
            "For example, when doing 'df[col].method(value, inplace=True)', try using 'df.method({col: value}, inplace=True)' or df[col] = df[col].method(value) instead, to perform the operation inplace on the original object.\n",
            "\n",
            "\n",
            "  liyab['Cleaned University'].fillna('Not Specified', inplace=True)\n"
          ]
        }
      ],
      "source": [
        "uni_col = 'What school did you graduate from?'\n",
        "if not liyab.empty and uni_col in liyab.columns:\n",
        "    liyab['Cleaned University'] = liyab[uni_col].astype(str).str.lower().str.strip()\n",
        "    # Remove content in parentheses (e.g., (BS), (Manila Campus))\n",
        "    liyab['Cleaned University'] = liyab['Cleaned University'].apply(lambda x: re.sub(r'\\s*\\([^)]*\\)\\s*', '', x).strip())\n",
        "    # Remove punctuation except spaces, then normalize spaces\n",
        "    liyab['Cleaned University'] = liyab['Cleaned University'].apply(lambda x: re.sub(r'[^a-z0-9\\s]', '', x))\n",
        "    liyab['Cleaned University'] = liyab['Cleaned University'].apply(lambda x: re.sub(r'\\s+', ' ', x).strip())\n",
        "\n",
        "    # Specific string replacements for common terms BEFORE regex mapping\n",
        "    replacements = {\n",
        "        'univ ': 'university ',\n",
        "        ' univ': ' university',\n",
        "        'st ': 'saint ',\n",
        "        'sta ': 'santa ',\n",
        "        ' de ': ' ',\n",
        "        ' la ': ' ',\n",
        "        ' los ': ' ',\n",
        "        ' baños ': ' banos ',\n",
        "        ' and ': ' ',\n",
        "        ' & ': ' '\n",
        "    }\n",
        "    for old, new in replacements.items():\n",
        "        liyab['Cleaned University'] = liyab['Cleaned University'].str.replace(old, new, regex=False)\n",
        "    # Re-apply space normalization\n",
        "    liyab['Cleaned University'] = liyab['Cleaned University'].apply(lambda x: re.sub(r'\\s+', ' ', x).strip())\n",
        "\n",
        "    university_map = {\n",
        "        # UP System (Order matters: more specific regex first)\n",
        "        r'.*university philippines diliman.*': 'University of the Philippines Diliman',\n",
        "        r'.*up diliman.*': 'University of the Philippines Diliman',\n",
        "        r'^upd$': 'University of the Philippines Diliman',\n",
        "        r'.*university philippines los banos.*': 'University of the Philippines Los Baños',\n",
        "        r'.*up los banos.*': 'University of the Philippines Los Baños',\n",
        "        r'^uplb$': 'University of the Philippines Los Baños',\n",
        "        r'.*university philippines manila.*': 'University of the Philippines Manila',\n",
        "        r'.*up manila.*': 'University of the Philippines Manila',\n",
        "        r'^upm$': 'University of the Philippines Manila',\n",
        "        r'.*university philippines visayas.*': 'University of the Philippines Visayas',\n",
        "        r'.*up visayas.*': 'University of the Philippines Visayas',\n",
        "        r'^upv$': 'University of the Philippines Visayas',\n",
        "        r'.*university philippines cebu.*': 'University of the Philippines Cebu',\n",
        "        r'.*up cebu.*': 'University of the Philippines Cebu',\n",
        "        r'.*university philippines baguio.*': 'University of the Philippines Baguio',\n",
        "        r'.*up baguio.*': 'University of the Philippines Baguio',\n",
        "        r'^upb$': 'University of the Philippines Baguio',\n",
        "        r'.*university philippines mindanao.*': 'University of the Philippines Mindanao',\n",
        "        r'.*up mindanao.*': 'University of the Philippines Mindanao',\n",
        "        r'.*university philippines open university.*': 'University of the Philippines Open University',\n",
        "        r'.*up open univ.*': 'University of the Philippines Open University',\n",
        "        r'^upou$': 'University of the Philippines Open University',\n",
        "        r'.*university philippines.*': 'University of the Philippines (Unspecified Campus)',\n",
        "        r'^up$': 'University of the Philippines (Unspecified Campus)',\n",
        "\n",
        "        # Ateneo System\n",
        "        r'.*ateneo manila university.*': 'Ateneo de Manila University',\n",
        "        r'^admu$': 'Ateneo de Manila University',\n",
        "        r'.*ateneo davao university.*': 'Ateneo de Davao University',\n",
        "        r'^addu$': 'Ateneo de Davao University',\n",
        "        r'.*ateneo zamboanga university.*': 'Ateneo de Zamboanga University',\n",
        "        r'^adzu$': 'Ateneo de Zamboanga University',\n",
        "        r'.*ateneo naga university.*': 'Ateneo de Naga University',\n",
        "        r'^adnu$': 'Ateneo de Naga University',\n",
        "        r'.*xavier university ateneo cagayan.*': 'Xavier University - Ateneo de Cagayan',\n",
        "        r'.*xavier university.*': 'Xavier University - Ateneo de Cagayan',\n",
        "        r'.*ateneo cagayan.*': 'Xavier University - Ateneo de Cagayan',\n",
        "        r'.*ateneo.*': 'Ateneo de Manila University', # General Ateneo, default to Manila\n",
        "\n",
        "        # De La Salle System\n",
        "        r'.*salle university manila.*': 'De La Salle University Manila',\n",
        "        r'.*salle manila.*': 'De La Salle University Manila',\n",
        "        r'^dlsum$': 'De La Salle University Manila',\n",
        "        r'^dlsu$': 'De La Salle University Manila',\n",
        "        r'.*salle college saint benilde.*': 'De La Salle-College of Saint Benilde',\n",
        "        r'.*salle csb.*': 'De La Salle-College of Saint Benilde',\n",
        "        r'^csb$': 'De La Salle-College of Saint Benilde',\n",
        "        r'^benilde$': 'De La Salle-College of Saint Benilde',\n",
        "        r'.*salle lipa.*': 'De La Salle Lipa',\n",
        "        r'^dlsl$': 'De La Salle Lipa',\n",
        "        r'.*salle university dasmarinas.*': 'De La Salle University Dasmariñas',\n",
        "        r'^dlsud$': 'De La Salle University Dasmariñas',\n",
        "        r'.*salle university.*': 'De La Salle University Manila', # Default DLSU to Manila\n",
        "        r'.*salle medical health sciences institute.*' : 'De La Salle Medical and Health Sciences Institute',\n",
        "        r'.*salle.*': 'De La Salle University Manila', # General La Salle\n",
        "\n",
        "        # UST\n",
        "        r'.*university santo tomas.*': 'University of Santo Tomas',\n",
        "        r'^ust$': 'University of Santo Tomas',\n",
        "\n",
        "        # Mapua\n",
        "        r'.*mapua institute technology.*': 'Mapúa University',\n",
        "        r'.*mapua university.*': 'Mapúa University',\n",
        "        r'^mapua$': 'Mapúa University',\n",
        "\n",
        "        # PUP\n",
        "        r'.*polytechnic university philippines.*': 'Polytechnic University of the Philippines',\n",
        "        r'^pup$': 'Polytechnic University of the Philippines',\n",
        "\n",
        "        # Other common schools\n",
        "        r'.*adamson university.*': 'Adamson University',\n",
        "        r'.*far eastern university.*': 'Far Eastern University',\n",
        "        r'^feu$': 'Far Eastern University',\n",
        "        r'.*lyceum philippines university.*': 'Lyceum of the Philippines University',\n",
        "        r'^lpu$': 'Lyceum of the Philippines University',\n",
        "        r'.*miriam college.*': 'Miriam College',\n",
        "        r'.*national university.*': 'National University',\n",
        "        r'^nu$': 'National University',\n",
        "        r'.*pamantasan lungsod maynila.*': 'Pamantasan ng Lungsod ng Maynila',\n",
        "        r'^plm$': 'Pamantasan ng Lungsod ng Maynila',\n",
        "        r'.*san beda university.*': 'San Beda University',\n",
        "        r'.*san beda college.*': 'San Beda University',\n",
        "        r'^sbu$': 'San Beda University',\n",
        "        r'^sbc$': 'San Beda University',\n",
        "        r'.*silliman university.*': 'Silliman University',\n",
        "        r'.*technological institute philippines.*': 'Technological Institute of the Philippines',\n",
        "        r'^tip$': 'Technological Institute of the Philippines',\n",
        "        r'.*technological university philippines.*': 'Technological University of the Philippines',\n",
        "        r'^tup$': 'Technological University of the Philippines',\n",
        "        r'.*university east.*': 'University of the East',\n",
        "        r'^ue$': 'University of the East',\n",
        "        r'.*university san carlos.*': 'University of San Carlos',\n",
        "        r'^usc$': 'University of San Carlos',\n",
        "        r'.*saint louis university.*': 'Saint Louis University Baguio',\n",
        "        r'^slu$': 'Saint Louis University Baguio',\n",
        "        r'.*central philippine university.*': 'Central Philippine University',\n",
        "        r'^cpu$': 'Central Philippine University',\n",
        "        r'.*mindanao state university iligan institute technology.*': 'Mindanao State University - Iligan Institute of Technology',\n",
        "        r'.*msu iit.*': 'Mindanao State University - Iligan Institute of Technology',\n",
        "        r'.*mindanao state university.*': 'Mindanao State University (Unspecified Campus)',\n",
        "        r'^msu$': 'Mindanao State University (Unspecified Campus)',\n",
        "        r'.*holy angel university.*': 'Holy Angel University',\n",
        "        r'^hau$': 'Holy Angel University',\n",
        "        r'.*university baguio.*': 'University of Baguio',\n",
        "        r'.*ub.*': 'University of Baguio',\n",
        "        r'.*university makati.*': 'University of Makati',\n",
        "        r'^umak$': 'University of Makati',\n",
        "        r'.*cebu institute technology.*': 'Cebu Institute of Technology - University',\n",
        "        r'^cit u.*': 'Cebu Institute of Technology - University',\n",
        "        r'.*university cebu.*': 'University of Cebu',\n",
        "        r'.*university perpetual help system dalta.*': 'University of Perpetual Help System DALTA',\n",
        "        r'.*uphsd.*': 'University of Perpetual Help System DALTA',\n",
        "        r'.*asia pacific college.*': 'Asia Pacific College',\n",
        "        r'^apc$': 'Asia Pacific College',\n",
        "        r'.*enderun colleges.*': 'Enderun Colleges',\n",
        "        r'.*iacademy.*': 'iACADEMY',\n",
        "        r'.*sti college.*': 'STI College',\n",
        "        r'^sti$': 'STI College',\n",
        "        r'.*ama computer university.*': 'AMA Computer University',\n",
        "        r'.*ama computer college.*': 'AMA Computer University',\n",
        "        r'^ama$': 'AMA Computer University',\n",
        "\n",
        "        # Non-university / Special Cases\n",
        "        r'.*still in school.*': 'Still Enrolled',\n",
        "        r'.*not yet a graduate.*': 'Still Enrolled',\n",
        "        r'.*not yet graduated.*': 'Still Enrolled',\n",
        "        r'.*undergrad.*': 'Still Enrolled / Did Not Graduate',\n",
        "        r'.*didnt graduate.*': 'Did Not Graduate',\n",
        "        r'.*college dropout.*': 'Did Not Graduate',\n",
        "        r'.*high school.*': 'High School Graduate',\n",
        "        r'.*hs grad.*': 'High School Graduate',\n",
        "        r'^na$': 'Not Applicable',\n",
        "        r'^n a$': 'Not Applicable',\n",
        "        r'nan': 'Not Specified', # for the string 'nan'\n",
        "        r'.*prefer not to say.*': 'Prefer Not to Say',\n",
        "        r'.*secret.*': 'Prefer Not to Say',\n",
        "        r'^\\s*$': 'Not Specified', # Empty strings after strip\n",
        "        r'^\\d{4}$': 'Invalid Entry (Year)',\n",
        "        r'^\\d{1,2}$': 'Invalid Entry (Number)',\n",
        "        r'.*overseas.*': 'Overseas University'\n",
        "    }\n",
        "\n",
        "    # Apply the mapping using regex\n",
        "    # Create a temporary column to avoid issues with chained assignment warnings\n",
        "    temp_uni_values = liyab['Cleaned University'].copy()\n",
        "    for pattern, standard_name in university_map.items():\n",
        "        # Apply regex replacement where the current value matches the pattern\n",
        "        mask = temp_uni_values.str.contains(pattern, regex=True, case=False, na=False)\n",
        "        temp_uni_values[mask] = standard_name\n",
        "    liyab['Cleaned University'] = temp_uni_values\n",
        "\n",
        "    # Final catch-all for unmapped values that are not special categories\n",
        "    known_categories = set(university_map.values())\n",
        "    liyab['Cleaned University'] = liyab['Cleaned University'].apply(\n",
        "        lambda x: x if x in known_categories else ('Other University' if len(x) > 3 else 'Not Specified')\n",
        "        # len(x) > 3 is a heuristic to avoid classifying short, possibly invalid entries as 'Other University'\n",
        "    )\n",
        "    liyab['Cleaned University'].fillna('Not Specified', inplace=True)\n",
        "\n",
        "    print(\"\\nCleaned value counts for 'Cleaned University':\")\n",
        "    print(liyab['Cleaned University'].value_counts(dropna=False))\n",
        "\n",
        "    # Example: Remove rows where university is not suitable for graduate salary prediction\n",
        "    # original_rows_before_uni_drop = len(liyab)\n",
        "    # categories_to_drop = ['Still Enrolled / Did Not Graduate', 'Did Not Graduate', 'High School Graduate',\n",
        "    #                       'Not Applicable', 'Prefer Not to Say', 'Not Specified', 'Invalid Entry (Year)', 'Invalid Entry (Number)']\n",
        "    # liyab = liyab[~liyab['Cleaned University'].isin(categories_to_drop)]\n",
        "    # print(f\"\\nRows removed based on cleaned university category: {original_rows_before_uni_drop - len(liyab)}\")\n",
        "else:\n",
        "    print(f\"Column '{uni_col}' not found or DataFrame is empty.\")"
      ]
    },
    {
      "cell_type": "markdown",
      "source": [
        "#### 4. Industry Cleaning"
      ],
      "metadata": {
        "id": "jules_industry_markdown"
      }
    },
    {
      "cell_type": "code",
      "execution_count": 24,
      "metadata": {
        "id": "jules_install_sentence_transformers",
        "colab": {
          "base_uri": "https://localhost:8080/"
        },
        "outputId": "db12a442-aecd-4548-80da-5441ff263ea8"
      },
      "outputs": [
        {
          "output_type": "stream",
          "name": "stdout",
          "text": [
            "Requirement already satisfied: sentence-transformers in /usr/local/lib/python3.11/dist-packages (4.1.0)\n",
            "Requirement already satisfied: scikit-learn in /usr/local/lib/python3.11/dist-packages (1.6.1)\n",
            "Requirement already satisfied: transformers<5.0.0,>=4.41.0 in /usr/local/lib/python3.11/dist-packages (from sentence-transformers) (4.53.0)\n",
            "Requirement already satisfied: tqdm in /usr/local/lib/python3.11/dist-packages (from sentence-transformers) (4.67.1)\n",
            "Requirement already satisfied: torch>=1.11.0 in /usr/local/lib/python3.11/dist-packages (from sentence-transformers) (2.6.0+cu124)\n",
            "Requirement already satisfied: scipy in /usr/local/lib/python3.11/dist-packages (from sentence-transformers) (1.15.3)\n",
            "Requirement already satisfied: huggingface-hub>=0.20.0 in /usr/local/lib/python3.11/dist-packages (from sentence-transformers) (0.33.1)\n",
            "Requirement already satisfied: Pillow in /usr/local/lib/python3.11/dist-packages (from sentence-transformers) (11.2.1)\n",
            "Requirement already satisfied: typing_extensions>=4.5.0 in /usr/local/lib/python3.11/dist-packages (from sentence-transformers) (4.14.0)\n",
            "Requirement already satisfied: numpy>=1.19.5 in /usr/local/lib/python3.11/dist-packages (from scikit-learn) (2.0.2)\n",
            "Requirement already satisfied: joblib>=1.2.0 in /usr/local/lib/python3.11/dist-packages (from scikit-learn) (1.5.1)\n",
            "Requirement already satisfied: threadpoolctl>=3.1.0 in /usr/local/lib/python3.11/dist-packages (from scikit-learn) (3.6.0)\n",
            "Requirement already satisfied: filelock in /usr/local/lib/python3.11/dist-packages (from huggingface-hub>=0.20.0->sentence-transformers) (3.18.0)\n",
            "Requirement already satisfied: fsspec>=2023.5.0 in /usr/local/lib/python3.11/dist-packages (from huggingface-hub>=0.20.0->sentence-transformers) (2025.3.2)\n",
            "Requirement already satisfied: packaging>=20.9 in /usr/local/lib/python3.11/dist-packages (from huggingface-hub>=0.20.0->sentence-transformers) (24.2)\n",
            "Requirement already satisfied: pyyaml>=5.1 in /usr/local/lib/python3.11/dist-packages (from huggingface-hub>=0.20.0->sentence-transformers) (6.0.2)\n",
            "Requirement already satisfied: requests in /usr/local/lib/python3.11/dist-packages (from huggingface-hub>=0.20.0->sentence-transformers) (2.32.3)\n",
            "Requirement already satisfied: hf-xet<2.0.0,>=1.1.2 in /usr/local/lib/python3.11/dist-packages (from huggingface-hub>=0.20.0->sentence-transformers) (1.1.5)\n",
            "Requirement already satisfied: networkx in /usr/local/lib/python3.11/dist-packages (from torch>=1.11.0->sentence-transformers) (3.5)\n",
            "Requirement already satisfied: jinja2 in /usr/local/lib/python3.11/dist-packages (from torch>=1.11.0->sentence-transformers) (3.1.6)\n",
            "Requirement already satisfied: nvidia-cuda-nvrtc-cu12==12.4.127 in /usr/local/lib/python3.11/dist-packages (from torch>=1.11.0->sentence-transformers) (12.4.127)\n",
            "Requirement already satisfied: nvidia-cuda-runtime-cu12==12.4.127 in /usr/local/lib/python3.11/dist-packages (from torch>=1.11.0->sentence-transformers) (12.4.127)\n",
            "Requirement already satisfied: nvidia-cuda-cupti-cu12==12.4.127 in /usr/local/lib/python3.11/dist-packages (from torch>=1.11.0->sentence-transformers) (12.4.127)\n",
            "Requirement already satisfied: nvidia-cudnn-cu12==9.1.0.70 in /usr/local/lib/python3.11/dist-packages (from torch>=1.11.0->sentence-transformers) (9.1.0.70)\n",
            "Requirement already satisfied: nvidia-cublas-cu12==12.4.5.8 in /usr/local/lib/python3.11/dist-packages (from torch>=1.11.0->sentence-transformers) (12.4.5.8)\n",
            "Requirement already satisfied: nvidia-cufft-cu12==11.2.1.3 in /usr/local/lib/python3.11/dist-packages (from torch>=1.11.0->sentence-transformers) (11.2.1.3)\n",
            "Requirement already satisfied: nvidia-curand-cu12==10.3.5.147 in /usr/local/lib/python3.11/dist-packages (from torch>=1.11.0->sentence-transformers) (10.3.5.147)\n",
            "Requirement already satisfied: nvidia-cusolver-cu12==11.6.1.9 in /usr/local/lib/python3.11/dist-packages (from torch>=1.11.0->sentence-transformers) (11.6.1.9)\n",
            "Requirement already satisfied: nvidia-cusparse-cu12==12.3.1.170 in /usr/local/lib/python3.11/dist-packages (from torch>=1.11.0->sentence-transformers) (12.3.1.170)\n",
            "Requirement already satisfied: nvidia-cusparselt-cu12==0.6.2 in /usr/local/lib/python3.11/dist-packages (from torch>=1.11.0->sentence-transformers) (0.6.2)\n",
            "Requirement already satisfied: nvidia-nccl-cu12==2.21.5 in /usr/local/lib/python3.11/dist-packages (from torch>=1.11.0->sentence-transformers) (2.21.5)\n",
            "Requirement already satisfied: nvidia-nvtx-cu12==12.4.127 in /usr/local/lib/python3.11/dist-packages (from torch>=1.11.0->sentence-transformers) (12.4.127)\n",
            "Requirement already satisfied: nvidia-nvjitlink-cu12==12.4.127 in /usr/local/lib/python3.11/dist-packages (from torch>=1.11.0->sentence-transformers) (12.4.127)\n",
            "Requirement already satisfied: triton==3.2.0 in /usr/local/lib/python3.11/dist-packages (from torch>=1.11.0->sentence-transformers) (3.2.0)\n",
            "Requirement already satisfied: sympy==1.13.1 in /usr/local/lib/python3.11/dist-packages (from torch>=1.11.0->sentence-transformers) (1.13.1)\n",
            "Requirement already satisfied: mpmath<1.4,>=1.1.0 in /usr/local/lib/python3.11/dist-packages (from sympy==1.13.1->torch>=1.11.0->sentence-transformers) (1.3.0)\n",
            "Requirement already satisfied: regex!=2019.12.17 in /usr/local/lib/python3.11/dist-packages (from transformers<5.0.0,>=4.41.0->sentence-transformers) (2024.11.6)\n",
            "Requirement already satisfied: tokenizers<0.22,>=0.21 in /usr/local/lib/python3.11/dist-packages (from transformers<5.0.0,>=4.41.0->sentence-transformers) (0.21.2)\n",
            "Requirement already satisfied: safetensors>=0.4.3 in /usr/local/lib/python3.11/dist-packages (from transformers<5.0.0,>=4.41.0->sentence-transformers) (0.5.3)\n",
            "Requirement already satisfied: MarkupSafe>=2.0 in /usr/local/lib/python3.11/dist-packages (from jinja2->torch>=1.11.0->sentence-transformers) (3.0.2)\n",
            "Requirement already satisfied: charset-normalizer<4,>=2 in /usr/local/lib/python3.11/dist-packages (from requests->huggingface-hub>=0.20.0->sentence-transformers) (3.4.2)\n",
            "Requirement already satisfied: idna<4,>=2.5 in /usr/local/lib/python3.11/dist-packages (from requests->huggingface-hub>=0.20.0->sentence-transformers) (3.10)\n",
            "Requirement already satisfied: urllib3<3,>=1.21.1 in /usr/local/lib/python3.11/dist-packages (from requests->huggingface-hub>=0.20.0->sentence-transformers) (2.4.0)\n",
            "Requirement already satisfied: certifi>=2017.4.17 in /usr/local/lib/python3.11/dist-packages (from requests->huggingface-hub>=0.20.0->sentence-transformers) (2025.6.15)\n"
          ]
        }
      ],
      "source": [
        "!pip install sentence-transformers scikit-learn"
      ]
    },
    {
      "cell_type": "code",
      "execution_count": 25,
      "metadata": {
        "id": "qExufkMEAAuq",
        "colab": {
          "base_uri": "https://localhost:8080/"
        },
        "outputId": "ea66b981-4f6d-4b32-ae65-e7c997990bfc"
      },
      "outputs": [
        {
          "output_type": "stream",
          "name": "stderr",
          "text": [
            "/tmp/ipython-input-25-2211133685.py:46: FutureWarning: A value is trying to be set on a copy of a DataFrame or Series through chained assignment using an inplace method.\n",
            "The behavior will change in pandas 3.0. This inplace method will never work because the intermediate object on which we are setting values always behaves as a copy.\n",
            "\n",
            "For example, when doing 'df[col].method(value, inplace=True)', try using 'df.method({col: value}, inplace=True)' or df[col] = df[col].method(value) instead, to perform the operation inplace on the original object.\n",
            "\n",
            "\n",
            "  liyab[industry_col].fillna('', inplace=True)\n"
          ]
        },
        {
          "output_type": "stream",
          "name": "stdout",
          "text": [
            "\n",
            "Cleaned value counts for 'Cleaned Industry':\n",
            "Cleaned Industry\n",
            "Accountancy, Banking and Finance                    330\n",
            "Business Process Outsourcing (BPO)                  247\n",
            "Engineering and Manufacturing                       227\n",
            "Retail and E-commerce                               205\n",
            "Other                                               199\n",
            "Education and Training                              198\n",
            "Marketing, Advertising and Public Relations (PR)    178\n",
            "Information Technology (IT)                         169\n",
            "Healthcare and Pharmaceuticals                      169\n",
            "Public Services and Administration (Government)     166\n",
            "Property and Construction                           163\n",
            "Creative Arts, Design and Media                     152\n",
            "Sales                                               141\n",
            "Business, Consulting and Management                  64\n",
            "Charity and Voluntary Work (NGO)                     60\n",
            "Transport and Logistics                              54\n",
            "Hospitality, Events, Leisure, Sport and Tourism      48\n",
            "Energy and Utilities                                 44\n",
            "Environment and Agriculture                          38\n",
            "Recruitment and Human Resources (HR)                 35\n",
            "Law and Legal Services                               27\n",
            "Law Enforcement and Security                          8\n",
            "Name: count, dtype: int64\n"
          ]
        }
      ],
      "source": [
        "from sentence_transformers import SentenceTransformer\n",
        "from sklearn.metrics.pairwise import cosine_similarity\n",
        "from collections import defaultdict\n",
        "\n",
        "industry_col = 'In what industry was this job?'\n",
        "if not liyab.empty and industry_col in liyab.columns:\n",
        "    # Normalize function\n",
        "    def normalize_industry(s):\n",
        "        if not isinstance(s, str): return ''\n",
        "        s = s.lower().strip()\n",
        "        s = re.sub(r'[^a-z0-9\\s]', '', s)  # remove punctuation\n",
        "        s = re.sub(r'\\s+', ' ', s).strip() # remove extra spaces and trim\n",
        "        return s\n",
        "\n",
        "    # Define master categories\n",
        "    master_categories = [\n",
        "        \"Accountancy, Banking and Finance\",\n",
        "        \"Business Process Outsourcing (BPO)\", # Added BPO\n",
        "        \"Business, Consulting and Management\",\n",
        "        \"Charity and Voluntary Work (NGO)\",\n",
        "        \"Creative Arts, Design and Media\", # Combined Media\n",
        "        \"Energy and Utilities\",\n",
        "        \"Engineering and Manufacturing\",\n",
        "        \"Environment and Agriculture\",\n",
        "        \"Healthcare and Pharmaceuticals\", # Combined Science/Pharma\n",
        "        \"Hospitality, Events, Leisure, Sport and Tourism\", # Combined related fields\n",
        "        \"Information Technology (IT)\",\n",
        "        \"Law and Legal Services\",\n",
        "        \"Law Enforcement and Security\",\n",
        "        \"Marketing, Advertising and Public Relations (PR)\",\n",
        "        \"Property and Construction\",\n",
        "        \"Public Services and Administration (Government)\",\n",
        "        \"Recruitment and Human Resources (HR)\",\n",
        "        \"Retail and E-commerce\", # Added E-commerce\n",
        "        \"Sales\",\n",
        "        \"Education and Training\", # Renamed for clarity\n",
        "        \"Transport and Logistics\",\n",
        "        \"Other\"\n",
        "    ]\n",
        "\n",
        "    # Load SentenceTransformer model\n",
        "    model = SentenceTransformer('all-MiniLM-L6-v2')\n",
        "    category_embeddings = model.encode(master_categories)\n",
        "\n",
        "    # Prepare unique normalized entries for embedding\n",
        "    liyab[industry_col].fillna('', inplace=True)\n",
        "    unique_original_entries = liyab[industry_col].unique()\n",
        "    normalized_to_original_map = defaultdict(list)\n",
        "    for entry in unique_original_entries:\n",
        "        normalized = normalize_industry(entry)\n",
        "        if normalized: # Only consider non-empty normalized strings\n",
        "             normalized_to_original_map[normalized].append(entry)\n",
        "\n",
        "    unique_normalized_entries = [n for n in normalized_to_original_map.keys() if n] # Ensure no empty strings\n",
        "\n",
        "    normalized_entry_to_category = {}\n",
        "    if unique_normalized_entries:\n",
        "        entry_embeddings = model.encode(unique_normalized_entries)\n",
        "        # Assign each unique normalized entry to the closest master category\n",
        "        for i, entry_vector in enumerate(entry_embeddings):\n",
        "            similarities = cosine_similarity([entry_vector], category_embeddings)[0]\n",
        "            best_category_idx = np.argmax(similarities)\n",
        "            best_category = master_categories[best_category_idx]\n",
        "            normalized_entry_to_category[unique_normalized_entries[i]] = best_category\n",
        "\n",
        "    # Manual overrides for normalized keys (applied after similarity mapping)\n",
        "    manual_overrides = {\n",
        "        normalize_industry(\"bpo\"): \"Business Process Outsourcing (BPO)\",\n",
        "        normalize_industry(\"call center\"): \"Business Process Outsourcing (BPO)\",\n",
        "        normalize_industry(\"kpo\"): \"Business Process Outsourcing (BPO)\",\n",
        "        normalize_industry(\"shared services\"): \"Business Process Outsourcing (BPO)\",\n",
        "        normalize_industry(\"itbpo\"): \"Information Technology (IT)\", # Or BPO, depends on definition\n",
        "        normalize_industry(\"software engineering\"): \"Information Technology (IT)\",\n",
        "        normalize_industry(\"fintech\"): \"Accountancy, Banking and Finance\",\n",
        "        normalize_industry(\"ecommerce\"): \"Retail and E-commerce\",\n",
        "        normalize_industry(\"government\"): \"Public Services and Administration (Government)\",\n",
        "        normalize_industry(\"ngo\"): \"Charity and Voluntary Work (NGO)\",\n",
        "        normalize_industry(\"real estate\"): \"Property and Construction\",\n",
        "        normalize_industry(\"academe\"): \"Education and Training\",\n",
        "        normalize_industry(\"education\"): \"Education and Training\",\n",
        "        normalize_industry(\"teaching\"): \"Education and Training\",\n",
        "        normalize_industry(\"research\"): \"Other\", # Could be IT, Science, etc. Needs context or map to specific if clear\n",
        "        normalize_industry(\"architecture\"): \"Property and Construction\",\n",
        "        normalize_industry(\"construction\"): \"Property and Construction\",\n",
        "        normalize_industry(\"advertising\"): \"Marketing, Advertising and Public Relations (PR)\",\n",
        "        normalize_industry(\"media\"): \"Creative Arts, Design and Media\",\n",
        "        normalize_industry(\"telecommunications\"): \"Information Technology (IT)\", # Often grouped with IT\n",
        "        normalize_industry(\"pharmaceutical\"): \"Healthcare and Pharmaceuticals\",\n",
        "        normalize_industry(\"aviation\"): \"Transport and Logistics\",\n",
        "        normalize_industry(\"automotive\"): \"Engineering and Manufacturing\", # Or Sales if dealer\n",
        "        normalize_industry(\"food and beverage\"): \"Hospitality, Events, Leisure, Sport and Tourism\", # Or Manufacturing if production\n",
        "        normalize_industry(\"fmcg\"): \"Retail and E-commerce\", # Or Sales/Manufacturing\n",
        "        # Entries that are clearly not industries\n",
        "        normalize_industry(\"2020\"): \"Other\",\n",
        "        normalize_industry(\"na\"): \"Other\",\n",
        "        normalize_industry(\"none\"): \"Other\"\n",
        "    }\n",
        "    for norm_key, override_cat in manual_overrides.items():\n",
        "        if norm_key: # Ensure key is not empty\n",
        "            normalized_entry_to_category[norm_key] = override_cat\n",
        "\n",
        "    # Map back to the original DataFrame\n",
        "    def map_to_final_industry_category(original_value):\n",
        "        if pd.isna(original_value) or original_value.strip() == '':\n",
        "            return 'Not Specified'\n",
        "        normalized_val = normalize_industry(original_value)\n",
        "        if not normalized_val:\n",
        "            return 'Not Specified'\n",
        "        return normalized_entry_to_category.get(normalized_val, 'Other') # Default for unmapped\n",
        "\n",
        "    liyab['Cleaned Industry'] = liyab[industry_col].apply(map_to_final_industry_category)\n",
        "\n",
        "    print(\"\\nCleaned value counts for 'Cleaned Industry':\")\n",
        "    print(liyab['Cleaned Industry'].value_counts(dropna=False))\n",
        "\n",
        "    # Display original entries for a specific cleaned category for review\n",
        "    # print(\"\\nOriginal entries for 'Other' category:\")\n",
        "    # for norm_val, orig_vals in normalized_to_original_map.items():\n",
        "    #    if normalized_entry_to_category.get(norm_val) == 'Other':\n",
        "    #        print(f\"  Normalized: '{norm_val}' -> Original(s): {orig_vals}\")\n",
        "else:\n",
        "    print(f\"Column '{industry_col}' not found or DataFrame is empty.\")"
      ]
    },
    {
      "cell_type": "markdown",
      "source": [
        "#### 5. Other Date Column Validation (Placeholder)"
      ],
      "metadata": {
        "id": "jules_other_dates_markdown"
      }
    },
    {
      "cell_type": "code",
      "execution_count": 26,
      "metadata": {
        "id": "jules_other_dates_code",
        "colab": {
          "base_uri": "https://localhost:8080/"
        },
        "outputId": "a6ec46eb-8e1e-440b-ca06-ef8b125759a4"
      },
      "outputs": [
        {
          "output_type": "stream",
          "name": "stdout",
          "text": [
            "'Timestamp' column converted to datetime. NaT count: 0\n"
          ]
        }
      ],
      "source": [
        "# Placeholder for other date validations\n",
        "# Example: If a 'Timestamp' or 'Graduation Date' column exists\n",
        "if not liyab.empty:\n",
        "    if 'Timestamp' in liyab.columns: # Common in Google Form exports\n",
        "        liyab['Timestamp'] = pd.to_datetime(liyab['Timestamp'], errors='coerce')\n",
        "        print(f\"'Timestamp' column converted to datetime. NaT count: {liyab['Timestamp'].isnull().sum()}\")\n",
        "\n",
        "    grad_year_col = 'What year did you graduate?' # Assuming this column name might exist\n",
        "    if grad_year_col in liyab.columns:\n",
        "        liyab[grad_year_col] = pd.to_numeric(liyab[grad_year_col], errors='coerce')\n",
        "        # Add similar filtering as 'What year did you start your first job?' if needed\n",
        "        # liyab.dropna(subset=[grad_year_col], inplace=True)\n",
        "        # liyab = liyab[liyab[grad_year_col].between(1980, 2025)] # Example range\n",
        "        print(f\"'{grad_year_col}' column converted to numeric. NaN count: {liyab[grad_year_col].isnull().sum()}\")\n",
        "else:\n",
        "    print(\"DataFrame is empty.\")"
      ]
    },
    {
      "cell_type": "markdown",
      "source": [
        "#### 6. Handling Missing Values (Post Cleaning)"
      ],
      "metadata": {
        "id": "jules_nan_markdown"
      }
    },
    {
      "cell_type": "code",
      "execution_count": 27,
      "metadata": {
        "id": "jules_nan_code",
        "colab": {
          "base_uri": "https://localhost:8080/"
        },
        "outputId": "03938499-ae89-46d5-fc05-81b4d492d1f9"
      },
      "outputs": [
        {
          "output_type": "stream",
          "name": "stdout",
          "text": [
            "Missing values after initial cleaning steps:\n",
            "Timestamp                                                                                     0\n",
            "What year did you start your first job?                                                       0\n",
            "In what industry was this job?                                                                0\n",
            "What was your role?                                                                           0\n",
            "What was your monthly salary (in PHP)?                                                        0\n",
            "What school did you graduate from?                                                          167\n",
            "What is your gender?                                                                        130\n",
            "Did you negotiate your job offer?                                                            54\n",
            "If you can provide additional context to any of your answers above, you can do so here.    1761\n",
            "Cleaned Gender                                                                                0\n",
            "Cleaned University                                                                            0\n",
            "Cleaned Industry                                                                              0\n",
            "dtype: int64\n",
            "Guessed salary column: What was your monthly salary (in PHP)?\n",
            "\n",
            "Rows removed due to missing values in key columns (What was your monthly salary (in PHP)?, Cleaned University, Cleaned Industry, What year did you start your first job?): 0\n",
            "Rows removed due to unsuitable university categories: 213\n",
            "\n",
            "Missing values after NaN strategy:\n",
            "Timestamp                                                                                     0\n",
            "What year did you start your first job?                                                       0\n",
            "In what industry was this job?                                                                0\n",
            "What was your role?                                                                           0\n",
            "What was your monthly salary (in PHP)?                                                        0\n",
            "What school did you graduate from?                                                            0\n",
            "What is your gender?                                                                         52\n",
            "Did you negotiate your job offer?                                                            10\n",
            "If you can provide additional context to any of your answers above, you can do so here.    1597\n",
            "Cleaned Gender                                                                                0\n",
            "Cleaned University                                                                            0\n",
            "Cleaned Industry                                                                              0\n",
            "dtype: int64\n",
            "\n",
            "Final shape of the cleaned DataFrame: (2709, 12)\n"
          ]
        }
      ],
      "source": [
        "if not liyab.empty:\n",
        "    print(\"Missing values after initial cleaning steps:\")\n",
        "    print(liyab.isnull().sum())\n",
        "\n",
        "    # Define key columns that are essential for the analysis\n",
        "    # The target variable (salary) is crucial. Its name needs to be identified.\n",
        "    # Let's assume it's 'What is your current MONTHLY salary in PHP?' or similar\n",
        "    # For this example, I'll use a placeholder name 'Monthly Salary PHP'\n",
        "    # You'll need to replace 'Monthly Salary PHP' with the actual salary column name.\n",
        "\n",
        "    salary_column_guess = next((col for col in liyab.columns if 'salary' in col.lower() and 'monthly' in col.lower()), None)\n",
        "    if salary_column_guess:\n",
        "        print(f\"Guessed salary column: {salary_column_guess}\")\n",
        "        # Convert salary to numeric, removing non-numeric characters like commas, 'PHP'\n",
        "        if liyab[salary_column_guess].dtype == 'object':\n",
        "            liyab[salary_column_guess] = liyab[salary_column_guess].astype(str).str.replace(r'[^\\d.]', '', regex=True)\n",
        "            liyab[salary_column_guess] = pd.to_numeric(liyab[salary_column_guess], errors='coerce')\n",
        "\n",
        "        key_columns_for_analysis = [salary_column_guess, 'Cleaned University', 'Cleaned Industry', 'What year did you start your first job?']\n",
        "        # Ensure all key columns actually exist in the DataFrame before trying to drop NaNs\n",
        "        key_columns_present = [col for col in key_columns_for_analysis if col in liyab.columns]\n",
        "\n",
        "        if key_columns_present:\n",
        "            original_rows = len(liyab)\n",
        "            liyab.dropna(subset=key_columns_present, inplace=True)\n",
        "            print(f\"\\nRows removed due to missing values in key columns ({', '.join(key_columns_present)}): {original_rows - len(liyab)}\")\n",
        "        else:\n",
        "            print(\"\\nCould not find all key columns for NaN removal.\")\n",
        "\n",
        "        # Further, remove rows where Cleaned University indicates non-graduates or invalid entries\n",
        "        if 'Cleaned University' in liyab.columns:\n",
        "            original_rows = len(liyab)\n",
        "            uni_categories_to_drop = ['Still Enrolled', 'Still Enrolled / Did Not Graduate', 'Did Not Graduate',\n",
        "                                      'High School Graduate', 'Not Applicable', 'Prefer Not to Say',\n",
        "                                      'Not Specified', 'Invalid Entry (Year)', 'Invalid Entry (Number)']\n",
        "            liyab = liyab[~liyab['Cleaned University'].isin(uni_categories_to_drop)]\n",
        "            print(f\"Rows removed due to unsuitable university categories: {original_rows - len(liyab)}\")\n",
        "    else:\n",
        "        print(\"\\nCould not identify the salary column automatically. Skipping NaN removal based on salary.\")\n",
        "\n",
        "    print(\"\\nMissing values after NaN strategy:\")\n",
        "    print(liyab.isnull().sum())\n",
        "    print(f\"\\nFinal shape of the cleaned DataFrame: {liyab.shape}\")\n",
        "else:\n",
        "    print(\"DataFrame is empty.\")"
      ]
    },
    {
      "cell_type": "markdown",
      "source": [
        "#### 7. Final Review and Column Selection (Example)"
      ],
      "metadata": {
        "id": "jules_final_review_markdown"
      }
    },
    {
      "cell_type": "code",
      "execution_count": 28,
      "metadata": {
        "id": "jules_final_review_code",
        "colab": {
          "base_uri": "https://localhost:8080/"
        },
        "outputId": "1f699db2-6465-4c41-b15f-f4dec86e41c6"
      },
      "outputs": [
        {
          "output_type": "stream",
          "name": "stdout",
          "text": [
            "Cleaned DataFrame Head:\n",
            "            Timestamp  What year did you start your first job?  \\\n",
            "0 2020-01-21 12:57:30                                     2014   \n",
            "1 2020-01-21 12:59:09                                     2017   \n",
            "2 2020-01-21 13:31:10                                     2016   \n",
            "3 2020-01-21 13:34:33                                     2011   \n",
            "4 2020-01-21 14:34:42                                     2008   \n",
            "\n",
            "  In what industry was this job?      What was your role?  \\\n",
            "0                        Banking             HR Associate   \n",
            "1                        Fintech     Business Development   \n",
            "2                        Academe           Junior Partner   \n",
            "3                        Banking  Resourcing & Compliance   \n",
            "4                Market Research       Research Associate   \n",
            "\n",
            "   What was your monthly salary (in PHP)? What school did you graduate from?  \\\n",
            "0                                 18000.0                         UP Diliman   \n",
            "1                                 15000.0                   Mapua University   \n",
            "2                                 32615.0                         UP Diliman   \n",
            "3                                 15000.0                               DLSU   \n",
            "4                                 16000.0                         UP Diliman   \n",
            "\n",
            "  What is your gender? Did you negotiate your job offer?  \\\n",
            "0               Female                                No   \n",
            "1                 Male                                No   \n",
            "2               Female                                No   \n",
            "3               Female                                No   \n",
            "4               Female                                No   \n",
            "\n",
            "  If you can provide additional context to any of your answers above, you can do so here.  \\\n",
            "0                                                NaN                                        \n",
            "1                                                NaN                                        \n",
            "2                                                NaN                                        \n",
            "3                                                NaN                                        \n",
            "4  Salary figure is gross income, excluding bonus...                                        \n",
            "\n",
            "  Cleaned Gender                     Cleaned University  \\\n",
            "0         Female  University of the Philippines Diliman   \n",
            "1           Male                       Mapúa University   \n",
            "2         Female  University of the Philippines Diliman   \n",
            "3         Female          De La Salle University Manila   \n",
            "4         Female  University of the Philippines Diliman   \n",
            "\n",
            "                   Cleaned Industry  \n",
            "0  Accountancy, Banking and Finance  \n",
            "1  Accountancy, Banking and Finance  \n",
            "2            Education and Training  \n",
            "3  Accountancy, Banking and Finance  \n",
            "4                             Sales  \n",
            "\n",
            "Final selected DataFrame for modeling (liyab_final):\n",
            "   What was your monthly salary (in PHP)?  \\\n",
            "0                                 18000.0   \n",
            "1                                 15000.0   \n",
            "2                                 32615.0   \n",
            "3                                 15000.0   \n",
            "4                                 16000.0   \n",
            "\n",
            "                      Cleaned University                  Cleaned Industry  \\\n",
            "0  University of the Philippines Diliman  Accountancy, Banking and Finance   \n",
            "1                       Mapúa University  Accountancy, Banking and Finance   \n",
            "2  University of the Philippines Diliman            Education and Training   \n",
            "3          De La Salle University Manila  Accountancy, Banking and Finance   \n",
            "4  University of the Philippines Diliman                             Sales   \n",
            "\n",
            "  Cleaned Gender  What year did you start your first job?  \n",
            "0         Female                                     2014  \n",
            "1           Male                                     2017  \n",
            "2         Female                                     2016  \n",
            "3         Female                                     2011  \n",
            "4         Female                                     2008  \n",
            "Shape of liyab_final: (2709, 5)\n"
          ]
        }
      ],
      "source": [
        "if not liyab.empty:\n",
        "    print(\"Cleaned DataFrame Head:\")\n",
        "    print(liyab.head())\n",
        "\n",
        "    # List of columns to keep for analysis/modeling\n",
        "    # This would depend on the features you intend to use.\n",
        "    # Original columns that were cleaned should be replaced by their 'Cleaned' versions.\n",
        "    columns_to_keep = []\n",
        "    if salary_column_guess and salary_column_guess in liyab.columns: columns_to_keep.append(salary_column_guess)\n",
        "    if 'Cleaned University' in liyab.columns: columns_to_keep.append('Cleaned University')\n",
        "    if 'Cleaned Industry' in liyab.columns: columns_to_keep.append('Cleaned Industry')\n",
        "    if 'Cleaned Gender' in liyab.columns: columns_to_keep.append('Cleaned Gender')\n",
        "    if 'What year did you start your first job?' in liyab.columns: columns_to_keep.append('What year did you start your first job?')\n",
        "    # Add other relevant columns like 'Timestamp', 'What course did you take in college?', etc.\n",
        "    # For example, if 'What course did you take in college?' is also cleaned into 'Cleaned Course'\n",
        "    # columns_to_keep.append('Cleaned Course')\n",
        "\n",
        "    # Ensure all columns in columns_to_keep actually exist\n",
        "    final_columns = [col for col in columns_to_keep if col in liyab.columns]\n",
        "\n",
        "    if final_columns:\n",
        "        liyab_final = liyab[final_columns].copy()\n",
        "        print(\"\\nFinal selected DataFrame for modeling (liyab_final):\")\n",
        "        print(liyab_final.head())\n",
        "        print(f\"Shape of liyab_final: {liyab_final.shape}\")\n",
        "    else:\n",
        "        print(\"\\nNo columns selected for the final DataFrame. Check column names and cleaning steps.\")\n",
        "        liyab_final = pd.DataFrame() # Empty df\n",
        "else:\n",
        "    print(\"DataFrame is empty, no final review possible.\")\n",
        "    liyab_final = pd.DataFrame() # Empty df"
      ]
    },
    {
      "cell_type": "markdown",
      "metadata": {
        "id": "Om8LlWlGbZCT"
      },
      "source": [
        "### **Original Notebook Cells (For Reference - May be outdated or partially integrated above)**"
      ]
    },
    {
      "cell_type": "code",
      "execution_count": 29,
      "metadata": {
        "collapsed": true,
        "id": "rosKft6Uacdb"
      },
      "outputs": [],
      "source": [
        "# !pip install rapidfuzz scikit-learn # Moved to industry cleaning cell"
      ]
    },
    {
      "cell_type": "code",
      "execution_count": 30,
      "metadata": {
        "id": "u9muBRcoaLJ9",
        "collapsed": true
      },
      "outputs": [],
      "source": [
        "# This cell for university clustering was for exploration.\n",
        "# The implemented cleaning uses a more direct mapping approach.\n",
        "# from rapidfuzz.distance import Levenshtein\n",
        "# from sklearn.cluster import AgglomerativeClustering\n",
        "# import numpy as np\n",
        "# strings = liyab['What school did you graduate from?'].unique() # Example, use original unique names\n",
        "# # ... rest of the clustering code ...\n",
        "# print(\"University clustering output (for reference only, not used in final cleaning pipeline):\")"
      ]
    },
    {
      "cell_type": "code",
      "source": [
        "# Original value counts for universities (for reference)\n",
        "# universities_count = liyab_original_backup['What school did you graduate from?'].value_counts().sort_index()\n",
        "# print(universities_count)"
      ],
      "metadata": {
        "id": "Kr0ndbUbqLtg"
      },
      "execution_count": 31,
      "outputs": []
    },
    {
      "cell_type": "code",
      "source": [
        "# Original formatted university counts (for reference)\n",
        "# universities_formatted = liyab_original_backup['What school did you graduate from?'].astype(str).str.lower().str.strip()\n",
        "# universities_formatted = universities_formatted.apply(lambda x: re.sub(r'[^a-z0-9\\s]', '', x))\n",
        "# print(universities_formatted.value_counts())"
      ],
      "metadata": {
        "id": "-aXGdJefq66j"
      },
      "execution_count": 32,
      "outputs": []
    },
    {
      "cell_type": "code",
      "metadata": {
        "colab": {
          "base_uri": "https://localhost:8080/"
        },
        "id": "84f4d39c",
        "outputId": "4f31c218-3c46-468d-c25e-b52093bbb591"
      },
      "source": [
        "if not liyab_final.empty:\n",
        "    # Define the path for the cleaned data file\n",
        "    cleaned_csv_path = \"/content/drive/Shareddrives/MALAIA Group 2/liyab_data/liyab_cleaned.csv\"\n",
        "\n",
        "    # Save the cleaned DataFrame to a new CSV file\n",
        "    liyab_final.to_csv(cleaned_csv_path, index=False)\n",
        "\n",
        "    print(f\"Cleaned data saved successfully to: {cleaned_csv_path}\")\n",
        "else:\n",
        "    print(\"liyab_final DataFrame is empty. Nothing to save.\")"
      ],
      "execution_count": 33,
      "outputs": [
        {
          "output_type": "stream",
          "name": "stdout",
          "text": [
            "Cleaned data saved successfully to: /content/drive/Shareddrives/MALAIA Group 2/liyab_data/liyab_cleaned.csv\n"
          ]
        }
      ]
    },
    {
      "cell_type": "code",
      "source": [
        "print(liyab_final['Cleaned University'].unique(), end=\"\\n\\n\")\n",
        "print(liyab_final['What year did you start your first job?'].unique(), end=\"\\n\\n\")\n",
        "print(liyab_final['Cleaned Gender'].unique(), end=\"\\n\\n\")\n",
        "print(liyab_final['Cleaned Industry'].unique(), end=\"\\n\\n\")"
      ],
      "metadata": {
        "id": "rRF-rkt77TGc",
        "outputId": "83694edc-6877-4bd1-c972-0801de646646",
        "colab": {
          "base_uri": "https://localhost:8080/"
        }
      },
      "execution_count": 44,
      "outputs": [
        {
          "output_type": "stream",
          "name": "stdout",
          "text": [
            "['University of the Philippines Diliman' 'Mapúa University'\n",
            " 'De La Salle University Manila' 'Other University'\n",
            " 'University of the Philippines Visayas' 'Ateneo de Manila University'\n",
            " 'University of Baguio' 'University of Santo Tomas'\n",
            " 'University of the Philippines (Unspecified Campus)'\n",
            " 'University of the Philippines Baguio' 'Miriam College'\n",
            " 'Silliman University' 'University of the Philippines Los Baños'\n",
            " 'Asia Pacific College' 'San Beda University' 'Holy Angel University'\n",
            " 'Polytechnic University of the Philippines' 'Far Eastern University'\n",
            " 'University of the Philippines Manila'\n",
            " 'University of the Philippines Mindanao' 'Central Philippine University'\n",
            " 'Pamantasan ng Lungsod ng Maynila' 'University of the Philippines Cebu'\n",
            " 'University of the East' 'National University' 'STI College'\n",
            " 'Adamson University' 'iACADEMY' 'University of San Carlos'\n",
            " 'Technological University of the Philippines'\n",
            " 'Lyceum of the Philippines University'\n",
            " 'Mindanao State University (Unspecified Campus)' 'Overseas University'\n",
            " 'Enderun Colleges' 'AMA Computer University']\n",
            "\n",
            "[2014 2017 2016 2011 2008 2005 2010 2013 2019 2018 2009 2015 2006 2007\n",
            " 2012 2004 2020 2001 2000 2003 1999 2002 1992 1998 1987 2021 2022 1997\n",
            " 2023 2024 2025]\n",
            "\n",
            "['Female' 'Male' 'Other' 'LGBTQ+' 'Prefer not to say']\n",
            "\n",
            "['Accountancy, Banking and Finance' 'Education and Training' 'Sales'\n",
            " 'Marketing, Advertising and Public Relations (PR)'\n",
            " 'Business Process Outsourcing (BPO)' 'Engineering and Manufacturing'\n",
            " 'Other' 'Retail and E-commerce'\n",
            " 'Public Services and Administration (Government)'\n",
            " 'Business, Consulting and Management' 'Creative Arts, Design and Media'\n",
            " 'Property and Construction' 'Information Technology (IT)'\n",
            " 'Healthcare and Pharmaceuticals'\n",
            " 'Hospitality, Events, Leisure, Sport and Tourism'\n",
            " 'Environment and Agriculture' 'Recruitment and Human Resources (HR)'\n",
            " 'Charity and Voluntary Work (NGO)' 'Energy and Utilities'\n",
            " 'Transport and Logistics' 'Law and Legal Services'\n",
            " 'Law Enforcement and Security']\n",
            "\n"
          ]
        }
      ]
    }
  ],
  "metadata": {
    "colab": {
      "provenance": [],
      "include_colab_link": true
    },
    "kernelspec": {
      "display_name": "Python 3",
      "name": "python3"
    },
    "language_info": {
      "name": "python"
    }
  },
  "nbformat": 4,
  "nbformat_minor": 0
}